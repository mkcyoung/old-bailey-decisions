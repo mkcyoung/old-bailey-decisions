{
  "nbformat": 4,
  "nbformat_minor": 0,
  "metadata": {
    "colab": {
      "name": "logistic_regression.ipynb",
      "provenance": [],
      "collapsed_sections": [],
      "toc_visible": true
    },
    "kernelspec": {
      "name": "python3",
      "display_name": "Python 3"
    }
  },
  "cells": [
    {
      "cell_type": "markdown",
      "metadata": {
        "id": "v0y_XSm_Ksp7"
      },
      "source": [
        "## Logistic regression + SVM + Perceptron implementation\n",
        "\n",
        "An ensemble of all three classifiers, take the majority from these three. "
      ]
    },
    {
      "cell_type": "code",
      "metadata": {
        "id": "3YOt04JpKobG"
      },
      "source": [
        "import numpy as np\n",
        "from copy import copy\n",
        "import pandas as pd\n",
        "import math\n",
        "import random\n",
        "import matplotlib.pyplot as plt\n",
        "from tqdm import tqdm\n",
        "%matplotlib inline"
      ],
      "execution_count": null,
      "outputs": []
    },
    {
      "cell_type": "markdown",
      "metadata": {
        "id": "C9TtpPclX792"
      },
      "source": [
        "# Initializing paths + random seed"
      ]
    },
    {
      "cell_type": "code",
      "metadata": {
        "id": "ab0gLx-9XdIy"
      },
      "source": [
        "# Initializing\n",
        "\n",
        "np.random.seed(42)\n",
        "TRAINING_PATH = '/content/drive/My Drive/Colab Notebooks/Machine Learning 2020/old-bailey-decisions/project_data/processed_features/misc_train_processed.csv'\n",
        "TESTING_PATH = '/content/drive/My Drive/Colab Notebooks/Machine Learning 2020/old-bailey-decisions/project_data/processed_features/misc_test_processed.csv'\n",
        "EVAL_PATH = '/content/drive/My Drive/Colab Notebooks/Machine Learning 2020/old-bailey-decisions/project_data/processed_features/misc_eval_processed.csv'\n",
        "\n",
        "TRAINING_PATH_GLOVE = '/content/drive/My Drive/Colab Notebooks/Machine Learning 2020/old-bailey-decisions/project_data/processed_features/glove_misc_train.csv'\n",
        "TESTING_PATH_GLOVE = '/content/drive/My Drive/Colab Notebooks/Machine Learning 2020/old-bailey-decisions/project_data/processed_features/glove_misc_test.csv'\n",
        "EVAL_PATH_GLOVE = '/content/drive/My Drive/Colab Notebooks/Machine Learning 2020/old-bailey-decisions/project_data/processed_features/glove_misc_eval.csv'\n",
        "\n",
        "TRAINING_PATH_TF = '/content/drive/My Drive/Colab Notebooks/Machine Learning 2020/old-bailey-decisions/project_data/processed_features/tf_misc_train.csv'\n",
        "TESTING_PATH_TF = '/content/drive/My Drive/Colab Notebooks/Machine Learning 2020/old-bailey-decisions/project_data/processed_features/tf_misc_test.csv'\n",
        "EVAL_PATH_TF = '/content/drive/My Drive/Colab Notebooks/Machine Learning 2020/old-bailey-decisions/project_data/processed_features/tf_misc_eval.csv'\n",
        "\n",
        "TRAINING_PATH_BOW = '/content/drive/My Drive/Colab Notebooks/Machine Learning 2020/old-bailey-decisions/project_data/processed_features/bow_misc_train.csv'\n",
        "TESTING_PATH_BOW = '/content/drive/My Drive/Colab Notebooks/Machine Learning 2020/old-bailey-decisions/project_data/processed_features/bow_misc_test.csv'\n",
        "EVAL_PATH_BOW = '/content/drive/My Drive/Colab Notebooks/Machine Learning 2020/old-bailey-decisions/project_data/processed_features/bow_misc_eval.csv'\n",
        "\n",
        "EVAL_IDS = '/content/drive/My Drive/Colab Notebooks/Machine Learning 2020/old-bailey-decisions/project_data/data/eval.ids'"
      ],
      "execution_count": null,
      "outputs": []
    },
    {
      "cell_type": "markdown",
      "metadata": {
        "id": "LVBg4pQnX4wf"
      },
      "source": [
        "## Data class\n",
        "\n",
        "Plus some other helper functions"
      ]
    },
    {
      "cell_type": "code",
      "metadata": {
        "id": "LivYDRlBXkCE"
      },
      "source": [
        "# Defining Data class\n",
        "# Will define new data class using csv and numpy\n",
        "\n",
        "class Data:\n",
        "  def __init__(self,file_path=None):\n",
        "    if file_path != None:\n",
        "      self.raw_data,\\\n",
        "      self.y,\\\n",
        "      self.X,\\\n",
        "      self.num_examples,\\\n",
        "      self.num_features = self.load_data_from_path(file_path)\n",
        "\n",
        "  def load_data_from_path(self,file_path):\n",
        "    # data = np.loadtxt(file_path, delimiter = \",\")\n",
        "    raw_data = pd.read_csv(file_path)\n",
        "    data = raw_data.to_numpy()\n",
        "    labels = data[:,0]\n",
        "    instances = data[:,1:]\n",
        "\n",
        "    # Add a 1 to the end of each instance\n",
        "    bias = np.ones((data.shape[0],1))\n",
        "    instances = np.append(instances,bias,axis=1)\n",
        "\n",
        "    num_examples = data.shape[0]\n",
        "    num_features = instances.shape[1]\n",
        "    return data,labels,instances,num_examples,num_features\n",
        "\n",
        "  def load_data(self,raw_data):\n",
        "    self.raw_data = raw_data\n",
        "    self.y = raw_data[:,0]\n",
        "    instances = raw_data[:,1:]\n",
        "    # Add a 1 to the end of each instance\n",
        "    bias = np.ones((raw_data.shape[0],1))\n",
        "    self.X = np.append(instances,bias,axis=1)\n",
        "    self.num_examples = raw_data.shape[0]\n",
        "    self.num_features = self.X.shape[1]\n",
        "\n",
        "  def add_bias_to_features(self):\n",
        "    # Add a 1 to the end of each instance\n",
        "    bias = np.ones((self.num_examples,1))\n",
        "    self.X = np.append(self.X,bias,axis=1)\n",
        "\n",
        "  def add_data(self,data):\n",
        "    # takes as input another data object and adds that data to this object\n",
        "    self.raw_data = np.vstack((self.raw_data,data.raw_data))\n",
        "    self.X = np.vstack((self.X,data.X))\n",
        "    self.y = np.hstack((self.y,data.y))\n",
        "    self.num_examples += data.num_examples\n",
        "\n",
        "  # returns shuffled labels and instances\n",
        "  def shuffle_data(self):\n",
        "    shuffled_raw_data = np.copy(self.raw_data)\n",
        "    np.random.shuffle(shuffled_raw_data)\n",
        "    shuffled_labels = shuffled_raw_data[:,0]\n",
        "    shuffled_instances = shuffled_raw_data[:,1:]\n",
        "    # add in bias\n",
        "    bias = np.ones((shuffled_raw_data.shape[0],1))\n",
        "    shuffled_instances = np.append(shuffled_instances,bias,axis=1)\n",
        "\n",
        "    return shuffled_instances,shuffled_labels\n",
        "\n",
        "\n",
        "# plot learning curve\n",
        "def plot_learning(x,y,title,x_label,y_label):\n",
        "  # Let's plot\n",
        "  plt.style.use('default')\n",
        "  plt.rcParams['font.family'] = 'Avenir'\n",
        "  plt.figure(figsize = (11,4.5))\n",
        "  # My PCA\n",
        "  plt.plot(x,y)\n",
        "  plt.title(title,fontsize=15)\n",
        "  plt.xlabel(x_label)\n",
        "  plt.ylabel(y_label)\n",
        "  [i.set_linewidth(0.4) for i in plt.gca().spines.values()]"
      ],
      "execution_count": null,
      "outputs": []
    },
    {
      "cell_type": "markdown",
      "metadata": {
        "id": "uu_TncY4X0Og"
      },
      "source": [
        "## Logistic Regression class"
      ]
    },
    {
      "cell_type": "code",
      "metadata": {
        "id": "kOmH-s9iXoa0"
      },
      "source": [
        "class LOGREG():\n",
        "  def __init__(self):\n",
        "    self.W = None\n",
        "    self.Weights = {} # init empty dict of Weights, add to this for each epoch\n",
        "    self.accuracies = {} # init empty dict of accuracies, which I store at end of each epoch\n",
        "    self.loss = {} # dictionary contatining loss at each step\n",
        "    self.num_updates = 0 # records number of updates made \n",
        "\n",
        "  def initialize_weights(self,num_features):\n",
        "    # self.W = np.array([np.random.uniform(-0.01,0.01) for _ in range(num_features)])\n",
        "    self.W = np.zeros((num_features)) # init to zeros\n",
        "  \n",
        "  def train(self,data,epochs=1,learning_rate=1,reg_strength=1):\n",
        "    C = reg_strength\n",
        "    epochs = epochs\n",
        "    N = data.num_examples\n",
        "    D = data.num_features\n",
        "    # print(\"N:\",N,\"D (including b):\",D)\n",
        "    # initialize weights\n",
        "    self.initialize_weights(D)\n",
        "    \n",
        "    for t in range(epochs):\n",
        "      lr = learning_rate #/ (1 + t) # we use a decaying learning rate\n",
        "      # shuffle data - doing this instead of random sampling, essentially same \n",
        "      # thing but is easier to keep track of epochs this way\n",
        "      X,y = data.shuffle_data()\n",
        "      # loop over each example in the training set\n",
        "      for i in range(N):\n",
        "        # compute gradient\n",
        "        z = -y[i]*self.W.T.dot(X[i])\n",
        "        dW = (np.exp(z)/(1.0 + np.exp(z)))*(-y[i]*X[i]) + (2.0/C)*self.W\n",
        "        # dW = (sigmoid(self.W.T.dot(X[i]))-y[i])*X[i]\n",
        "        # dW = (1-sigmoid(z))*(-y[i]*X[i]) + (2.0/C)*self.W\n",
        "        # print(\"grad\",dW)\n",
        "        # update weights by stepping along gradient\n",
        "        # Maybe this is my issue......\n",
        "        # print(dW.shape)\n",
        "        self.W = self.W - lr*(dW) \n",
        "      # store this iteration of weights \n",
        "      self.Weights[t] = self.W\n",
        "      # store the accuracy of these weights\n",
        "      self.accuracies[t] = self.get_accuracy_own_weights(data,self.W)\n",
        "      # Compute and store the loss \n",
        "      self.loss[t] = self.compute_loss(data,self.W,C)\n",
        "\n",
        "\n",
        "  # Helper methods for predicting and accuracy\n",
        "  def get_best_weights_and_bias(self):\n",
        "    # print(self.accuracies.items())\n",
        "    best_epoch = max(self.accuracies,key=self.accuracies.get)\n",
        "    # print(\"best epoch: \",best_epoch)\n",
        "    return self.Weights[best_epoch],best_epoch\n",
        "\n",
        "  def predict(self,data):\n",
        "    predictions = np.sign(data.dot(self.W))\n",
        "    return predictions\n",
        "\n",
        "  def get_predict_accuracy(self,data):\n",
        "    predictions = self.predict(data.X)\n",
        "    equal = np.equal(predictions,data.y)\n",
        "    return np.sum(equal)/data.num_examples\n",
        "\n",
        "  def get_accuracy_own_weights(self,data,W):\n",
        "    predictions = np.sign(data.X.dot(W)) # Should the prediction have a margin? No, I don't think so\n",
        "    equal = np.equal(predictions,data.y)\n",
        "    return np.sum(equal)/data.num_examples\n",
        "\n",
        "  def compute_loss(self,data,W,C):\n",
        "    # \"Loss\" of the entire dataset\n",
        "    X = data.X\n",
        "    y = data.y\n",
        "    z = -y*W.dot(X.T)\n",
        "    loss = np.sum(np.log(1+np.exp(z))) + (1/C)*W.T.dot(W)\n",
        "    # print(loss)\n",
        "    return loss\n",
        "\n",
        "\n",
        "# sigmoid function\n",
        "def sigmoid(z):\n",
        "  return 1.0 / (1.0 + np.exp(-z))"
      ],
      "execution_count": null,
      "outputs": []
    },
    {
      "cell_type": "markdown",
      "metadata": {
        "id": "Tu8AeHPBXxzC"
      },
      "source": [
        "## Load data"
      ]
    },
    {
      "cell_type": "code",
      "metadata": {
        "id": "XTepA7J0Xygn"
      },
      "source": [
        "\n",
        "# TF-IDF + Misc\n",
        "train_data = Data(TRAINING_PATH_TF)\n",
        "test_data = Data(TESTING_PATH_TF)\n",
        "\n",
        "# Glove + Misc\n",
        "# train_data = Data(TRAINING_PATH_GLOVE)\n",
        "# test_data = Data(TESTING_PATH_GLOVE)\n",
        "\n",
        "# BOW + Misc\n",
        "# train_data = Data(TRAINING_PATH_BOW)\n",
        "# test_data = Data(TESTING_PATH_BOW)\n",
        "\n",
        "# Misc\n",
        "# misc_train_data = Data(TRAINING_PATH)"
      ],
      "execution_count": null,
      "outputs": []
    },
    {
      "cell_type": "markdown",
      "metadata": {
        "id": "4NN6Nm8EYXUF"
      },
      "source": [
        "## Initial training \n",
        "\n",
        "Try out some different lr and C's to get a feel for how log reg performs."
      ]
    },
    {
      "cell_type": "code",
      "metadata": {
        "colab": {
          "base_uri": "https://localhost:8080/",
          "height": 953
        },
        "id": "QALbCRshZQql",
        "outputId": "383daf52-31da-41c9-933b-d11775699999"
      },
      "source": [
        "learning_rate = 0.0001\n",
        "C = 1000\n",
        "\n",
        "epochs = 5\n",
        "model = LOGREG()\n",
        "%time model.train(train_data,epochs,learning_rate,C)\n",
        "\n",
        "# test set accuracy\n",
        "# Get the best weights and bias from this training\n",
        "W,best_epoch = model.get_best_weights_and_bias()\n",
        "# training set accuracy:\n",
        "print(\"best training set accuracy: \", model.accuracies[best_epoch] )\n",
        "# Use these weights and bias to evaluate on the test set\n",
        "test_accuracy = model.get_accuracy_own_weights(test_data,W)\n",
        "print(\"final test accuracy: \",test_accuracy)\n",
        "\n",
        "y = list(model.accuracies.values())\n",
        "x = [i for i in range(epochs)]\n",
        "title = 'log reg training learning curve'\n",
        "plot_learning(x,y,title,'epochs','training accuracy')\n",
        "\n",
        "y = list(model.loss.values())\n",
        "x = [i for i in range(epochs)]\n",
        "title = 'log reg training loss'\n",
        "plot_learning(x,y,title,'epochs','loss')"
      ],
      "execution_count": null,
      "outputs": [
        {
          "output_type": "stream",
          "text": [
            "CPU times: user 1min 19s, sys: 15.3 s, total: 1min 34s\n",
            "Wall time: 1min 7s\n",
            "best training set accuracy:  0.7816\n",
            "final test accuracy:  0.7902222222222223\n"
          ],
          "name": "stdout"
        },
        {
          "output_type": "display_data",
          "data": {
            "image/png": "[encoded data removed]",
            "text/plain": [
              "<Figure size 1100x450 with 1 Axes>"
            ]
          },
          "metadata": {
            "tags": []
          }
        },
        {
          "output_type": "display_data",
          "data": {
            "image/png": "[encoded data removed]",
            "text/plain": [
              "<Figure size 1100x450 with 1 Axes>"
            ]
          },
          "metadata": {
            "tags": []
          }
        }
      ]
    },
    {
      "cell_type": "markdown",
      "metadata": {
        "id": "xhjc0tS_anjr"
      },
      "source": [
        "## Make cross validation folds"
      ]
    },
    {
      "cell_type": "code",
      "metadata": {
        "id": "BoKoOy65apRl"
      },
      "source": [
        "# Validation splits - split training data into k splits\n",
        "\n",
        "k = 3\n",
        "folds = np.array_split(train_data.raw_data,k)"
      ],
      "execution_count": null,
      "outputs": []
    },
    {
      "cell_type": "markdown",
      "metadata": {
        "id": "cvk_FAh0arba"
      },
      "source": [
        "## Run cross validation"
      ]
    },
    {
      "cell_type": "code",
      "metadata": {
        "id": "KN6_Ffykasjp"
      },
      "source": [
        "def cross_validate(epochs,folds,learning_rates,regularizations,verbose=False,model=LOGREG()):\n",
        "\n",
        "  # dictionaries storing accuracies corresponding to certain hyper parameter combinations\n",
        "  mean_accuracies = {} \n",
        "  standard_deviations = {}\n",
        "\n",
        "  num_combs = len(learning_rates)*len(regularizations)\n",
        "  progress = 0\n",
        "  \n",
        "  for lr in tqdm(learning_rates):\n",
        "    for C in tqdm(regularizations):\n",
        "      accuracies = []\n",
        "      # Need to concatenate 4 of the folds into one training set and leave out one as my test set\n",
        "      for i in tqdm(range(k)):\n",
        "        # Initialize new data objects\n",
        "        val_data = Data()\n",
        "        train_data = Data()\n",
        "        folds_copy = list.copy(folds)\n",
        "        # Set validation data\n",
        "        val_data.load_data(np.array(folds_copy.pop(i)))\n",
        "        # set training data\n",
        "        train_data.load_data(np.concatenate(folds_copy,axis=0))\n",
        "        # train on folds\n",
        "        svm = model\n",
        "        svm.train(train_data,epochs,lr,C)\n",
        "        weights,best_epoch = svm.get_best_weights_and_bias()\n",
        "        # calculate validation accuracy\n",
        "        val_accuracy = svm.get_accuracy_own_weights(val_data,weights)\n",
        "        accuracies.append(val_accuracy)\n",
        "\n",
        "      mean_accuracies[(lr,C)] = np.mean(accuracies)\n",
        "      standard_deviations[(lr,C)] = np.std(accuracies)\n",
        "      if verbose == True:\n",
        "        print(\"accuracy: \",mean_accuracies[(lr,C)],\"lr: \",lr,\"C: \",C)\n",
        "        # print(\"list\",accuracies)\n",
        "        progress += 1\n",
        "        print(\"{:.4}% complete\".format(100*progress/num_combs))\n",
        "\n",
        "  print(mean_accuracies.items())\n",
        "  print(standard_deviations.items())\n",
        "  best_vals = max(mean_accuracies,key=mean_accuracies.get)\n",
        "  print(\"best lr: \",best_vals[0],\"best C: \",best_vals[1],\"cross-val accuracy: \",mean_accuracies[best_vals])\n",
        "  return best_vals"
      ],
      "execution_count": null,
      "outputs": []
    },
    {
      "cell_type": "code",
      "metadata": {
        "colab": {
          "base_uri": "https://localhost:8080/"
        },
        "id": "C0KE1Hepav6P",
        "outputId": "da4f1003-8e30-4659-eef8-4cf82ee5a92d"
      },
      "source": [
        "# cross validate \n",
        "\n",
        "epochs = 4\n",
        "learning_rates = [10**0, 10**-1, 10**-2, 10**-4, 10**-5]\n",
        "# learning_rates = [10**0, 10**-2, 10**-4]\n",
        "# regularizations = [10**3, 10**2, 10**1, 10**0, 10**-1, 10**-2]\n",
        "regularizations = [10**4, 10**3, 10**-1]\n",
        "\n",
        "best_vals = cross_validate(epochs,folds,learning_rates,regularizations,verbose=True)"
      ],
      "execution_count": null,
      "outputs": [
        {
          "output_type": "stream",
          "text": [
            "  0%|          | 0/5 [00:00<?, ?it/s]\n",
            "  0%|          | 0/3 [00:00<?, ?it/s]\u001b[A\n",
            "\n",
            "  0%|          | 0/3 [00:00<?, ?it/s]\u001b[A\u001b[A\n",
            "\n",
            " 33%|███▎      | 1/3 [00:44<01:28, 44.08s/it]\u001b[A\u001b[A\n",
            "\n",
            " 67%|██████▋   | 2/3 [01:28<00:44, 44.25s/it]\u001b[A\u001b[A\n",
            "\n",
            "100%|██████████| 3/3 [02:11<00:00, 43.92s/it]\n",
            "\n",
            " 33%|███▎      | 1/3 [02:11<04:23, 131.77s/it]\u001b[A\n",
            "\n",
            "  0%|          | 0/3 [00:00<?, ?it/s]\u001b[A\u001b[A"
          ],
          "name": "stderr"
        },
        {
          "output_type": "stream",
          "text": [
            "accuracy:  0.7880571382079857 lr:  1 C:  10000\n",
            "6.667% complete\n"
          ],
          "name": "stdout"
        },
        {
          "output_type": "stream",
          "text": [
            "\n",
            "\n",
            " 33%|███▎      | 1/3 [00:44<01:28, 44.34s/it]\u001b[A\u001b[A\n",
            "\n",
            " 67%|██████▋   | 2/3 [01:26<00:43, 43.80s/it]\u001b[A\u001b[A\n",
            "\n",
            "100%|██████████| 3/3 [02:09<00:00, 43.06s/it]\n",
            "\n",
            " 67%|██████▋   | 2/3 [04:20<02:11, 131.00s/it]\u001b[A\n",
            "\n",
            "  0%|          | 0/3 [00:00<?, ?it/s]\u001b[A\u001b[A"
          ],
          "name": "stderr"
        },
        {
          "output_type": "stream",
          "text": [
            "accuracy:  0.7703999658494615 lr:  1 C:  1000\n",
            "13.33% complete\n"
          ],
          "name": "stdout"
        },
        {
          "output_type": "stream",
          "text": [
            "/usr/local/lib/python3.6/dist-packages/ipykernel_launcher.py:31: RuntimeWarning: overflow encountered in exp\n",
            "/usr/local/lib/python3.6/dist-packages/ipykernel_launcher.py:31: RuntimeWarning: invalid value encountered in double_scalars\n",
            "\n",
            "\n",
            " 33%|███▎      | 1/3 [00:44<01:28, 44.18s/it]\u001b[A\u001b[A\n",
            "\n",
            " 67%|██████▋   | 2/3 [01:26<00:43, 43.67s/it]\u001b[A\u001b[A\n",
            "\n",
            "100%|██████████| 3/3 [02:08<00:00, 42.99s/it]\n",
            "\n",
            "100%|██████████| 3/3 [06:29<00:00, 129.99s/it]\n",
            " 20%|██        | 1/5 [06:29<25:59, 389.97s/it]\n",
            "  0%|          | 0/3 [00:00<?, ?it/s]\u001b[A\n",
            "\n",
            "  0%|          | 0/3 [00:00<?, ?it/s]\u001b[A\u001b[A"
          ],
          "name": "stderr"
        },
        {
          "output_type": "stream",
          "text": [
            "accuracy:  0.0 lr:  1 C:  0.1\n",
            "20.0% complete\n"
          ],
          "name": "stdout"
        },
        {
          "output_type": "stream",
          "text": [
            "\n",
            "\n",
            " 33%|███▎      | 1/3 [00:43<01:27, 43.82s/it]\u001b[A\u001b[A\n",
            "\n",
            " 67%|██████▋   | 2/3 [01:28<00:44, 44.08s/it]\u001b[A\u001b[A\n",
            "\n",
            "100%|██████████| 3/3 [02:10<00:00, 43.66s/it]\n",
            "\n",
            " 33%|███▎      | 1/3 [02:10<04:21, 130.99s/it]\u001b[A\n",
            "\n",
            "  0%|          | 0/3 [00:00<?, ?it/s]\u001b[A\u001b[A"
          ],
          "name": "stderr"
        },
        {
          "output_type": "stream",
          "text": [
            "accuracy:  0.8046859056523196 lr:  0.1 C:  10000\n",
            "26.67% complete\n"
          ],
          "name": "stdout"
        },
        {
          "output_type": "stream",
          "text": [
            "\n",
            "\n",
            " 33%|███▎      | 1/3 [00:43<01:27, 43.51s/it]\u001b[A\u001b[A\n",
            "\n",
            " 67%|██████▋   | 2/3 [01:25<00:43, 43.19s/it]\u001b[A\u001b[A\n",
            "\n",
            "100%|██████████| 3/3 [02:08<00:00, 42.72s/it]\n",
            "\n",
            " 67%|██████▋   | 2/3 [04:19<02:10, 130.15s/it]\u001b[A\n",
            "\n",
            "  0%|          | 0/3 [00:00<?, ?it/s]\u001b[A\u001b[A"
          ],
          "name": "stderr"
        },
        {
          "output_type": "stream",
          "text": [
            "accuracy:  0.7889715153515899 lr:  0.1 C:  1000\n",
            "33.33% complete\n"
          ],
          "name": "stdout"
        },
        {
          "output_type": "stream",
          "text": [
            "\n",
            "\n",
            " 33%|███▎      | 1/3 [00:43<01:27, 43.53s/it]\u001b[A\u001b[A\n",
            "\n",
            " 67%|██████▋   | 2/3 [01:25<00:43, 43.21s/it]\u001b[A\u001b[A\n",
            "\n",
            "100%|██████████| 3/3 [02:08<00:00, 42.99s/it]\n",
            "\n",
            "100%|██████████| 3/3 [06:28<00:00, 129.39s/it]\n",
            " 40%|████      | 2/5 [12:58<19:28, 389.43s/it]\n",
            "  0%|          | 0/3 [00:00<?, ?it/s]\u001b[A\n",
            "\n",
            "  0%|          | 0/3 [00:00<?, ?it/s]\u001b[A\u001b[A"
          ],
          "name": "stderr"
        },
        {
          "output_type": "stream",
          "text": [
            "accuracy:  0.0 lr:  0.1 C:  0.1\n",
            "40.0% complete\n"
          ],
          "name": "stdout"
        },
        {
          "output_type": "stream",
          "text": [
            "\n",
            "\n",
            " 33%|███▎      | 1/3 [00:43<01:26, 43.31s/it]\u001b[A\u001b[A\n",
            "\n",
            " 67%|██████▋   | 2/3 [01:25<00:42, 42.90s/it]\u001b[A\u001b[A\n",
            "\n",
            "100%|██████████| 3/3 [02:07<00:00, 42.39s/it]\n",
            "\n",
            " 33%|███▎      | 1/3 [02:07<04:14, 127.17s/it]\u001b[A\n",
            "\n",
            "  0%|          | 0/3 [00:00<?, ?it/s]\u001b[A\u001b[A"
          ],
          "name": "stderr"
        },
        {
          "output_type": "stream",
          "text": [
            "accuracy:  0.7883429471840332 lr:  0.01 C:  10000\n",
            "46.67% complete\n"
          ],
          "name": "stdout"
        },
        {
          "output_type": "stream",
          "text": [
            "\n",
            "\n",
            " 33%|███▎      | 1/3 [00:43<01:26, 43.22s/it]\u001b[A\u001b[A\n",
            "\n",
            " 67%|██████▋   | 2/3 [01:24<00:42, 42.76s/it]\u001b[A\u001b[A\n",
            "\n",
            "100%|██████████| 3/3 [02:06<00:00, 42.28s/it]\n",
            "\n",
            " 67%|██████▋   | 2/3 [04:14<02:07, 127.07s/it]\u001b[A\n",
            "\n",
            "  0%|          | 0/3 [00:00<?, ?it/s]\u001b[A\u001b[A"
          ],
          "name": "stderr"
        },
        {
          "output_type": "stream",
          "text": [
            "accuracy:  0.7872571414678812 lr:  0.01 C:  1000\n",
            "53.33% complete\n"
          ],
          "name": "stdout"
        },
        {
          "output_type": "stream",
          "text": [
            "\n",
            "\n",
            " 33%|███▎      | 1/3 [00:45<01:30, 45.34s/it]\u001b[A\u001b[A\n",
            "\n",
            " 67%|██████▋   | 2/3 [01:29<00:44, 44.93s/it]\u001b[A\u001b[A\n",
            "\n",
            "100%|██████████| 3/3 [02:13<00:00, 44.39s/it]\n",
            "\n",
            "100%|██████████| 3/3 [06:27<00:00, 129.06s/it]\n",
            " 60%|██████    | 3/5 [19:25<12:57, 388.76s/it]\n",
            "  0%|          | 0/3 [00:00<?, ?it/s]\u001b[A\n",
            "\n",
            "  0%|          | 0/3 [00:00<?, ?it/s]\u001b[A\u001b[A"
          ],
          "name": "stderr"
        },
        {
          "output_type": "stream",
          "text": [
            "accuracy:  0.6129716448070504 lr:  0.01 C:  0.1\n",
            "60.0% complete\n"
          ],
          "name": "stdout"
        },
        {
          "output_type": "stream",
          "text": [
            "\n",
            "\n",
            " 33%|███▎      | 1/3 [00:43<01:27, 43.80s/it]\u001b[A\u001b[A\n",
            "\n",
            " 67%|██████▋   | 2/3 [01:25<00:43, 43.26s/it]\u001b[A\u001b[A\n",
            "\n",
            "100%|██████████| 3/3 [02:07<00:00, 42.64s/it]\n",
            "\n",
            " 33%|███▎      | 1/3 [02:07<04:15, 127.92s/it]\u001b[A\n",
            "\n",
            "  0%|          | 0/3 [00:00<?, ?it/s]\u001b[A\u001b[A"
          ],
          "name": "stderr"
        },
        {
          "output_type": "stream",
          "text": [
            "accuracy:  0.7814857455099594 lr:  0.0001 C:  10000\n",
            "66.67% complete\n"
          ],
          "name": "stdout"
        },
        {
          "output_type": "stream",
          "text": [
            "\n",
            "\n",
            " 33%|███▎      | 1/3 [00:43<01:26, 43.22s/it]\u001b[A\u001b[A\n",
            "\n",
            " 67%|██████▋   | 2/3 [01:25<00:42, 42.82s/it]\u001b[A\u001b[A\n",
            "\n",
            "100%|██████████| 3/3 [02:07<00:00, 42.65s/it]\n",
            "\n",
            " 67%|██████▋   | 2/3 [04:15<02:07, 127.93s/it]\u001b[A\n",
            "\n",
            "  0%|          | 0/3 [00:00<?, ?it/s]\u001b[A\u001b[A"
          ],
          "name": "stderr"
        },
        {
          "output_type": "stream",
          "text": [
            "accuracy:  0.7817143104097845 lr:  0.0001 C:  1000\n",
            "73.33% complete\n"
          ],
          "name": "stdout"
        },
        {
          "output_type": "stream",
          "text": [
            "\n",
            "\n",
            " 33%|███▎      | 1/3 [00:43<01:26, 43.43s/it]\u001b[A\u001b[A\n",
            "\n",
            " 67%|██████▋   | 2/3 [01:25<00:43, 43.08s/it]\u001b[A\u001b[A\n",
            "\n",
            "100%|██████████| 3/3 [02:08<00:00, 42.89s/it]\n",
            "\n",
            "100%|██████████| 3/3 [06:24<00:00, 128.18s/it]\n",
            " 80%|████████  | 4/5 [25:49<06:27, 387.50s/it]\n",
            "  0%|          | 0/3 [00:00<?, ?it/s]\u001b[A\n",
            "\n",
            "  0%|          | 0/3 [00:00<?, ?it/s]\u001b[A\u001b[A"
          ],
          "name": "stderr"
        },
        {
          "output_type": "stream",
          "text": [
            "accuracy:  0.7813142875513353 lr:  0.0001 C:  0.1\n",
            "80.0% complete\n"
          ],
          "name": "stdout"
        },
        {
          "output_type": "stream",
          "text": [
            "\n",
            "\n",
            " 33%|███▎      | 1/3 [00:43<01:26, 43.45s/it]\u001b[A\u001b[A\n",
            "\n",
            " 67%|██████▋   | 2/3 [01:25<00:42, 42.98s/it]\u001b[A\u001b[A\n",
            "\n",
            "100%|██████████| 3/3 [02:07<00:00, 42.46s/it]\n",
            "\n",
            " 33%|███▎      | 1/3 [02:07<04:14, 127.39s/it]\u001b[A\n",
            "\n",
            "  0%|          | 0/3 [00:00<?, ?it/s]\u001b[A\u001b[A"
          ],
          "name": "stderr"
        },
        {
          "output_type": "stream",
          "text": [
            "accuracy:  0.7814857357146008 lr:  1e-05 C:  10000\n",
            "86.67% complete\n"
          ],
          "name": "stdout"
        },
        {
          "output_type": "stream",
          "text": [
            "\n",
            "\n",
            " 33%|███▎      | 1/3 [00:43<01:27, 43.98s/it]\u001b[A\u001b[A\n",
            "\n",
            " 67%|██████▋   | 2/3 [01:26<00:43, 43.64s/it]\u001b[A\u001b[A\n",
            "\n",
            "100%|██████████| 3/3 [02:09<00:00, 43.01s/it]\n",
            "\n",
            " 67%|██████▋   | 2/3 [04:16<02:07, 127.88s/it]\u001b[A\n",
            "\n",
            "  0%|          | 0/3 [00:00<?, ?it/s]\u001b[A\u001b[A"
          ],
          "name": "stderr"
        },
        {
          "output_type": "stream",
          "text": [
            "accuracy:  0.7816000181645132 lr:  1e-05 C:  1000\n",
            "93.33% complete\n"
          ],
          "name": "stdout"
        },
        {
          "output_type": "stream",
          "text": [
            "\n",
            "\n",
            " 33%|███▎      | 1/3 [00:43<01:27, 43.54s/it]\u001b[A\u001b[A\n",
            "\n",
            " 67%|██████▋   | 2/3 [01:25<00:43, 43.09s/it]\u001b[A\u001b[A\n",
            "\n",
            "100%|██████████| 3/3 [02:07<00:00, 42.57s/it]\n",
            "\n",
            "100%|██████████| 3/3 [06:24<00:00, 128.05s/it]\n",
            "100%|██████████| 5/5 [32:14<00:00, 386.81s/it]"
          ],
          "name": "stderr"
        },
        {
          "output_type": "stream",
          "text": [
            "accuracy:  0.7816571544917901 lr:  1e-05 C:  0.1\n",
            "100.0% complete\n",
            "dict_items([((1, 10000), 0.7880571382079857), ((1, 1000), 0.7703999658494615), ((1, 0.1), 0.0), ((0.1, 10000), 0.8046859056523196), ((0.1, 1000), 0.7889715153515899), ((0.1, 0.1), 0.0), ((0.01, 10000), 0.7883429471840332), ((0.01, 1000), 0.7872571414678812), ((0.01, 0.1), 0.6129716448070504), ((0.0001, 10000), 0.7814857455099594), ((0.0001, 1000), 0.7817143104097845), ((0.0001, 0.1), 0.7813142875513353), ((1e-05, 10000), 0.7814857357146008), ((1e-05, 1000), 0.7816000181645132), ((1e-05, 0.1), 0.7816571544917901)])\n",
            "dict_items([((1, 10000), 0.0027301936088277652), ((1, 1000), 0.011765814194703333), ((1, 0.1), 0.0), ((0.1, 10000), 0.0038294881454424778), ((0.1, 1000), 0.004266719797428695), ((0.1, 0.1), 0.0), ((0.01, 10000), 0.0025015057724584087), ((0.01, 1000), 0.0018198061384544413), ((0.01, 0.1), 0.08871695699998539), ((0.0001, 10000), 0.000799463352465202), ((0.0001, 1000), 0.000763700127013021), ((0.0001, 0.1), 0.0006303148400841053), ((1e-05, 10000), 0.0008142698360807412), ((1e-05, 1000), 0.0008694309971866735), ((1e-05, 0.1), 0.0008521235261034469)])\n",
            "best lr:  0.1 best C:  10000 cross-val accuracy:  0.8046859056523196\n"
          ],
          "name": "stdout"
        },
        {
          "output_type": "stream",
          "text": [
            "\n"
          ],
          "name": "stderr"
        }
      ]
    },
    {
      "cell_type": "markdown",
      "metadata": {
        "id": "_xlXTZ-_skyh"
      },
      "source": [
        "This cross val gave me:  \n",
        "\n",
        "best lr:  0.1 best C:  10000 cross-val accuracy:  0.8046859056523196"
      ]
    },
    {
      "cell_type": "code",
      "metadata": {
        "colab": {
          "base_uri": "https://localhost:8080/",
          "height": 987
        },
        "id": "6pAtDYvnspbf",
        "outputId": "13e38bd0-e527-4167-99cd-0208b8c44f26"
      },
      "source": [
        "learning_rate = 0.1\n",
        "C = 10000\n",
        "\n",
        "epochs = 15\n",
        "model = LOGREG()\n",
        "%time model.train(train_data,epochs,learning_rate,C)\n",
        "\n",
        "# test set accuracy\n",
        "# Get the best weights and bias from this training\n",
        "W,best_epoch = model.get_best_weights_and_bias()\n",
        "# training set accuracy:\n",
        "print(\"best training set accuracy: \", model.accuracies[best_epoch] )\n",
        "# Use these weights and bias to evaluate on the test set\n",
        "test_accuracy = model.get_accuracy_own_weights(test_data,W)\n",
        "print(\"final test accuracy: \",test_accuracy)\n",
        "\n",
        "y = list(model.accuracies.values())\n",
        "x = [i for i in range(epochs)]\n",
        "title = 'log reg training learning curve'\n",
        "plot_learning(x,y,title,'epochs','training accuracy')\n",
        "\n",
        "y = list(model.loss.values())\n",
        "x = [i for i in range(epochs)]\n",
        "title = 'log reg training loss'\n",
        "plot_learning(x,y,title,'epochs','loss')"
      ],
      "execution_count": null,
      "outputs": [
        {
          "output_type": "stream",
          "text": [
            "findfont: Font family ['Avenir'] not found. Falling back to DejaVu Sans.\n",
            "findfont: Font family ['Avenir'] not found. Falling back to DejaVu Sans.\n"
          ],
          "name": "stderr"
        },
        {
          "output_type": "stream",
          "text": [
            "CPU times: user 4min 36s, sys: 55.1 s, total: 5min 31s\n",
            "Wall time: 4min 1s\n",
            "best training set accuracy:  0.8393714285714285\n",
            "final test accuracy:  0.8284444444444444\n"
          ],
          "name": "stdout"
        },
        {
          "output_type": "display_data",
          "data": {
            "image/png": "[encoded data removed]",
            "text/plain": [
              "<Figure size 1100x450 with 1 Axes>"
            ]
          },
          "metadata": {
            "tags": []
          }
        },
        {
          "output_type": "display_data",
          "data": {
            "image/png": "[encoded data removed]",
            "text/plain": [
              "<Figure size 1100x450 with 1 Axes>"
            ]
          },
          "metadata": {
            "tags": []
          }
        }
      ]
    },
    {
      "cell_type": "markdown",
      "metadata": {
        "id": "-Jwql8CruRE8"
      },
      "source": [
        "Save best weights"
      ]
    },
    {
      "cell_type": "code",
      "metadata": {
        "id": "hpgBMgDzwiFK"
      },
      "source": [
        "outfile = '/content/drive/My Drive/Colab Notebooks/Machine Learning 2020/old-bailey-decisions/logreg_weights.npy'\n",
        "np.save(outfile, W)"
      ],
      "execution_count": null,
      "outputs": []
    },
    {
      "cell_type": "markdown",
      "metadata": {
        "id": "XJU2iL8YtNPv"
      },
      "source": [
        "## Load weights from previous models (SVM & perceptron)"
      ]
    },
    {
      "cell_type": "code",
      "metadata": {
        "id": "xt5DCuebtTg_"
      },
      "source": [
        "# Load weights and bias from perceptron\n",
        "W_perc = np.load('/content/drive/My Drive/Colab Notebooks/Machine Learning 2020/old-bailey-decisions/ensemble implementation/perceptron_weights.npy')\n",
        "b_perc = np.load('/content/drive/My Drive/Colab Notebooks/Machine Learning 2020/old-bailey-decisions/ensemble implementation/perceptron_bias.npy')\n",
        "\n",
        "# load weights from svm\n",
        "W_svm = np.load('/content/drive/My Drive/Colab Notebooks/Machine Learning 2020/old-bailey-decisions/ensemble implementation/svm_weights.npy')\n",
        "\n",
        "# load log reg weights\n",
        "W_logreg = np.load('/content/drive/My Drive/Colab Notebooks/Machine Learning 2020/old-bailey-decisions/ensemble implementation/logreg_weights.npy')\n"
      ],
      "execution_count": null,
      "outputs": []
    },
    {
      "cell_type": "markdown",
      "metadata": {
        "id": "j-PVPuZz3BVU"
      },
      "source": [
        "## Evaluate ensemble on test set\n",
        "\n",
        "Essentially I'll make a prediction on each example using each model and return the majority prediction."
      ]
    },
    {
      "cell_type": "code",
      "metadata": {
        "id": "_phIyJ463J0i"
      },
      "source": [
        "# remove last feature of X for perceptron (bias wasn't included)\n",
        "X_perc = test_data.X[:,:-1]\n",
        "\n",
        "# perceptron predictions\n",
        "perc_preds = np.sign(X_perc.dot(W_perc) + b_perc)\n",
        "\n",
        "# SVM predictions\n",
        "svm_preds = np.sign(test_data.X.dot(W_svm))\n",
        "\n",
        "# logistic regression predictions\n",
        "log_preds = np.sign(test_data.X.dot(W_logreg))\n"
      ],
      "execution_count": null,
      "outputs": []
    },
    {
      "cell_type": "markdown",
      "metadata": {
        "id": "P9YVY1OT5nP2"
      },
      "source": [
        "I can get the predicted label by adding these and taking the sign"
      ]
    },
    {
      "cell_type": "code",
      "metadata": {
        "colab": {
          "base_uri": "https://localhost:8080/"
        },
        "id": "0BFPeXUu5Nl6",
        "outputId": "97964b51-ef91-4e6c-c6c1-4199266793fb"
      },
      "source": [
        "preds = np.sign(perc_preds + svm_preds + log_preds)\n",
        "\n",
        "print(perc_preds[0:20])\n",
        "print(svm_preds[0:20])\n",
        "print(log_preds[0:20])\n",
        "print(preds[0:20])"
      ],
      "execution_count": null,
      "outputs": [
        {
          "output_type": "stream",
          "text": [
            "[-1.  1. -1. -1. -1. -1. -1. -1.  1. -1.  1.  1. -1. -1.  1.  1.  1. -1.\n",
            " -1.  1.]\n",
            "[-1.  1. -1. -1. -1. -1. -1. -1.  1. -1.  1.  1. -1. -1. -1.  1.  1. -1.\n",
            " -1.  1.]\n",
            "[-1.  1. -1. -1. -1. -1. -1. -1.  1. -1.  1.  1. -1. -1.  1.  1.  1. -1.\n",
            " -1.  1.]\n",
            "[-1.  1. -1. -1. -1. -1. -1. -1.  1. -1.  1.  1. -1. -1.  1.  1.  1. -1.\n",
            " -1.  1.]\n"
          ],
          "name": "stdout"
        }
      ]
    },
    {
      "cell_type": "code",
      "metadata": {
        "colab": {
          "base_uri": "https://localhost:8080/"
        },
        "id": "npfOkBwm54yv",
        "outputId": "c0c531cf-6176-4da7-9554-95f3732917ba"
      },
      "source": [
        "# Get accuracy\n",
        "equal = np.equal(preds,test_data.y)\n",
        "acc = np.sum(equal)/test_data.num_examples\n",
        "print(\"ensemble test acc: \",acc)"
      ],
      "execution_count": null,
      "outputs": [
        {
          "output_type": "stream",
          "text": [
            "ensemble test acc:  0.8488888888888889\n"
          ],
          "name": "stdout"
        }
      ]
    },
    {
      "cell_type": "markdown",
      "metadata": {
        "id": "pW53FHp_6X_X"
      },
      "source": [
        "Hmmmmm.... It's ok... but not great. It looks to be exactly the same accuracy as my perceptron. I think in order to improve this I would need to improve my feature set... which I could do with either some thoughtful tweaking of my features by hand... or use neural nets! I'll do neural nets."
      ]
    },
    {
      "cell_type": "markdown",
      "metadata": {
        "id": "rGJ2kb2F67cm"
      },
      "source": [
        "## Run ensemble on eval data"
      ]
    },
    {
      "cell_type": "code",
      "metadata": {
        "id": "wsZ8xM9n6TKQ"
      },
      "source": [
        "# load eval data\n",
        "eval_data = Data(EVAL_PATH_TF)"
      ],
      "execution_count": null,
      "outputs": []
    },
    {
      "cell_type": "code",
      "metadata": {
        "colab": {
          "base_uri": "https://localhost:8080/"
        },
        "id": "vsFg-csB7Cuh",
        "outputId": "14cdb385-1391-4d81-d6f4-cb86f4849405"
      },
      "source": [
        "# eval ids\n",
        "def load_ids(file_path):\n",
        "  with open(file_path) as f:\n",
        "    raw_data = [int(line.split()[0]) for line in f]\n",
        "  # print(raw_data)\n",
        "  return raw_data\n",
        "\n",
        "eval_ids = np.reshape(np.array(load_ids(EVAL_IDS),dtype=np.int32),(eval_data.X.shape[0],1))\n",
        "# print(eval_ids)\n",
        "\n",
        "# remove last feature of X for perceptron (bias wasn't included)\n",
        "X_perc = eval_data.X[:,:-1]\n",
        "\n",
        "# perceptron predictions\n",
        "perc_preds = np.sign(X_perc.dot(W_perc) + b_perc)\n",
        "\n",
        "# SVM predictions\n",
        "svm_preds = np.sign(eval_data.X.dot(W_svm))\n",
        "\n",
        "# logistic regression predictions\n",
        "log_preds = np.sign(eval_data.X.dot(W_logreg))\n",
        "\n",
        "predictions = np.sign(perc_preds + svm_preds + log_preds)\n",
        "\n",
        "\n",
        "predictions[predictions == -1] = 0\n",
        "predictions = np.reshape(predictions,(eval_data.X.shape[0],1))\n",
        "print(predictions.shape)\n",
        "print(predictions)\n",
        "eval_out = np.hstack((eval_ids,predictions))\n",
        "print(eval_out.shape)\n",
        "print(eval_out)\n",
        "eval_df = pd.DataFrame(data = eval_out,index = None,columns=['example_id','label'])\n",
        "save_to_path = '/content/drive/My Drive/Colab Notebooks/Machine Learning 2020/old-bailey-decisions/ensemble_evals.csv'\n",
        "eval_df.to_csv(path_or_buf=save_to_path,index=False)"
      ],
      "execution_count": null,
      "outputs": [
        {
          "output_type": "stream",
          "text": [
            "(5250, 1)\n",
            "[[1.]\n",
            " [0.]\n",
            " [1.]\n",
            " ...\n",
            " [1.]\n",
            " [0.]\n",
            " [0.]]\n",
            "(5250, 2)\n",
            "[[0.000e+00 1.000e+00]\n",
            " [1.000e+00 0.000e+00]\n",
            " [2.000e+00 1.000e+00]\n",
            " ...\n",
            " [5.247e+03 1.000e+00]\n",
            " [5.248e+03 0.000e+00]\n",
            " [5.249e+03 0.000e+00]]\n"
          ],
          "name": "stdout"
        }
      ]
    }
  ]
}