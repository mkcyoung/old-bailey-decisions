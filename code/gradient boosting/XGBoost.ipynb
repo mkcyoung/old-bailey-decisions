{
  "nbformat": 4,
  "nbformat_minor": 0,
  "metadata": {
    "colab": {
      "name": "XGBoost.ipynb",
      "provenance": [],
      "collapsed_sections": [],
      "toc_visible": true
    },
    "kernelspec": {
      "name": "python3",
      "display_name": "Python 3"
    }
  },
  "cells": [
    {
      "cell_type": "markdown",
      "metadata": {
        "id": "h4PSjtmrWcCj"
      },
      "source": [
        "# XGBoost\n",
        "\n",
        "As a last ditch effort, let's try XGBoost"
      ]
    },
    {
      "cell_type": "code",
      "metadata": {
        "id": "wHXHXu1nWZvN"
      },
      "source": [
        "import numpy as np\n",
        "import pandas as pd\n",
        "\n",
        "from scipy.stats import uniform, randint\n",
        "\n",
        "# These are a godsend\n",
        "# https://scikit-learn.org/stable/modules/model_evaluation.html \n",
        "from sklearn.metrics import auc, accuracy_score, confusion_matrix, mean_squared_error\n",
        "\n",
        "# these are also a godsend\n",
        "# https://scikit-learn.org/stable/model_selection.html\n",
        "from sklearn.model_selection import cross_val_score, GridSearchCV, KFold, RandomizedSearchCV, train_test_split\n",
        "\n",
        "import xgboost as xgb"
      ],
      "execution_count": null,
      "outputs": []
    },
    {
      "cell_type": "markdown",
      "metadata": {
        "id": "pvJlezTMWqsq"
      },
      "source": [
        "## Load data"
      ]
    },
    {
      "cell_type": "code",
      "metadata": {
        "colab": {
          "base_uri": "https://localhost:8080/"
        },
        "id": "etsqqZhuW602",
        "outputId": "a94946ea-0a12-43ea-97d1-e9470f37cf75"
      },
      "source": [
        "# TF V2\n",
        "TRAINING_PATH_TF = '/content/drive/My Drive/Colab Notebooks/Machine Learning 2020/old-bailey-decisions/project_data/processed_features/tf-train-2.csv'\n",
        "TESTING_PATH_TF = '/content/drive/My Drive/Colab Notebooks/Machine Learning 2020/old-bailey-decisions/project_data/processed_features/tf-test-2.csv'\n",
        "EVAL_PATH_TF = '/content/drive/My Drive/Colab Notebooks/Machine Learning 2020/old-bailey-decisions/project_data/processed_features/tf-eval-2.csv'\n",
        "\n",
        "# Load data for random forest + NN ensemble evaluation\n",
        "def load_data(path):\n",
        "  data = pd.read_csv(path).to_numpy()\n",
        "  X = data[:,1:]\n",
        "  y = data[:,0]\n",
        "  y[y == -1] = 0\n",
        "  return X,y\n",
        "\n",
        "%time X_train,y_train = load_data(TRAINING_PATH_TF)\n",
        "%time X_test, y_test = load_data(TESTING_PATH_TF)\n",
        "%time X_eval, y_eval = load_data(EVAL_PATH_TF)\n",
        "# %time Xm,ym = load_data(TRAINING_PATH)\n",
        "# %time Xm_val, ym_val = load_data(TESTING_PATH)"
      ],
      "execution_count": null,
      "outputs": [
        {
          "output_type": "stream",
          "text": [
            "CPU times: user 1min 5s, sys: 6.19 s, total: 1min 11s\n",
            "Wall time: 1min 13s\n",
            "CPU times: user 8.65 s, sys: 246 ms, total: 8.9 s\n",
            "Wall time: 9.09 s\n",
            "CPU times: user 19.5 s, sys: 370 ms, total: 19.8 s\n",
            "Wall time: 20.3 s\n"
          ],
          "name": "stdout"
        }
      ]
    },
    {
      "cell_type": "code",
      "metadata": {
        "id": "0d-YOr_gbe4u"
      },
      "source": [
        "# Feat VEC\n",
        "# NN feature vecs\n",
        "# Feature vector paths\n",
        "X_TRAIN = '/content/drive/My Drive/Colab Notebooks/Machine Learning 2020/old-bailey-decisions/extracted features/X_train_vec.npy'\n",
        "y_TRAIN = '/content/drive/My Drive/Colab Notebooks/Machine Learning 2020/old-bailey-decisions/extracted features/y_train_vec.npy'\n",
        "\n",
        "X_TEST = '/content/drive/My Drive/Colab Notebooks/Machine Learning 2020/old-bailey-decisions/extracted features/X_test_vec.npy'\n",
        "y_TEST = '/content/drive/My Drive/Colab Notebooks/Machine Learning 2020/old-bailey-decisions/extracted features/y_test_vec.npy'\n",
        "\n",
        "X_EVAL = '/content/drive/My Drive/Colab Notebooks/Machine Learning 2020/old-bailey-decisions/extracted features/X_eval_vec.npy'\n",
        "y_EVAL = '/content/drive/My Drive/Colab Notebooks/Machine Learning 2020/old-bailey-decisions/extracted features/y_eval_vec.npy'\n",
        "\n",
        "X_train = np.load(X_TRAIN)\n",
        "y_train = np.load(y_TRAIN)\n",
        "X_test = np.load(X_TEST)\n",
        "y_test = np.load(y_TEST)\n",
        "X_eval = np.load(X_EVAL)\n",
        "y_eval = np.load(y_EVAL)\n",
        "\n",
        "def load_data_np(X,y):\n",
        "  y[y==0] = -1\n",
        "  raw_data = np.append(y,X,axis=1)\n",
        "  bias = np.ones((X.shape[0],1))\n",
        "  X = np.append(X,bias,axis=1)\n",
        "  y = np.ravel(y)\n",
        "  return X,y\n",
        "  \n",
        "X_train, y_train = load_data_np(X_train,y_train)\n",
        "X_test,y_test = load_data_np(X_test,y_test)\n",
        "X_eval,y_eval = load_data_np(X_eval,y_eval)"
      ],
      "execution_count": null,
      "outputs": []
    },
    {
      "cell_type": "markdown",
      "metadata": {
        "id": "zO6kgGpGXWLU"
      },
      "source": [
        "## Training XGBoost\n",
        "\n",
        "https://www.kaggle.com/stuarthallows/using-xgboost-with-scikit-learn \n",
        "\n",
        "This is still getting about what the most basic perceptron algorith gets.... a little wacky imo.."
      ]
    },
    {
      "cell_type": "code",
      "metadata": {
        "colab": {
          "base_uri": "https://localhost:8080/"
        },
        "id": "1HhWnGUvWrV2",
        "outputId": "15e7c03a-0f9a-4be2-98f0-aa5d3d2b9761"
      },
      "source": [
        "\n",
        "\n",
        "xgb_model = xgb.XGBClassifier(objective=\"binary:logistic\", random_state=42)\n",
        "%time xgb_model.fit(X_train, y_train)\n",
        "\n",
        "y_pred = xgb_model.predict(X_train)\n",
        "\n",
        "print(accuracy_score(y_train, y_pred))"
      ],
      "execution_count": null,
      "outputs": [
        {
          "output_type": "stream",
          "text": [
            "CPU times: user 5min 52s, sys: 3.02 s, total: 5min 55s\n",
            "Wall time: 5min 55s\n",
            "0.8454285714285714\n"
          ],
          "name": "stdout"
        }
      ]
    },
    {
      "cell_type": "code",
      "metadata": {
        "colab": {
          "base_uri": "https://localhost:8080/"
        },
        "id": "nmdLHy0-Z00c",
        "outputId": "66399f00-6783-495e-ac40-314e036db971"
      },
      "source": [
        "y_pred = xgb_model.predict(X_test)\n",
        "accuracy_score(y_test, y_pred)"
      ],
      "execution_count": null,
      "outputs": [
        {
          "output_type": "execute_result",
          "data": {
            "text/plain": [
              "0.8395555555555556"
            ]
          },
          "metadata": {
            "tags": []
          },
          "execution_count": 29
        }
      ]
    },
    {
      "cell_type": "code",
      "metadata": {
        "colab": {
          "base_uri": "https://localhost:8080/"
        },
        "id": "SKvDgGYYX9Be",
        "outputId": "3c17f4d2-8195-40dd-c898-50f7a80baff3"
      },
      "source": [
        "\n",
        "# if more than one evaluation metric are given the last one is used for early stopping\n",
        "xgb_model = xgb.XGBClassifier(objective=\"binary:logistic\", random_state=42, eval_metric=\"auc\")\n",
        "\n",
        "%time xgb_model.fit(X, y, early_stopping_rounds=5, eval_set=[(X_val, y_val)])\n",
        "\n",
        "y_pred = xgb_model.predict(X_val)\n",
        "\n",
        "accuracy_score(y_val, y_pred)"
      ],
      "execution_count": null,
      "outputs": [
        {
          "output_type": "stream",
          "text": [
            "[0]\tvalidation_0-auc:0.849465\n",
            "Will train until validation_0-auc hasn't improved in 5 rounds.\n",
            "[1]\tvalidation_0-auc:0.850305\n",
            "[2]\tvalidation_0-auc:0.869562\n",
            "[3]\tvalidation_0-auc:0.874523\n",
            "[4]\tvalidation_0-auc:0.878177\n",
            "[5]\tvalidation_0-auc:0.88519\n",
            "[6]\tvalidation_0-auc:0.885503\n",
            "[7]\tvalidation_0-auc:0.887853\n",
            "[8]\tvalidation_0-auc:0.888591\n",
            "[9]\tvalidation_0-auc:0.889354\n",
            "[10]\tvalidation_0-auc:0.888923\n",
            "[11]\tvalidation_0-auc:0.889387\n",
            "[12]\tvalidation_0-auc:0.893736\n",
            "[13]\tvalidation_0-auc:0.893381\n",
            "[14]\tvalidation_0-auc:0.896269\n",
            "[15]\tvalidation_0-auc:0.897974\n",
            "[16]\tvalidation_0-auc:0.898069\n",
            "[17]\tvalidation_0-auc:0.899338\n",
            "[18]\tvalidation_0-auc:0.901077\n",
            "[19]\tvalidation_0-auc:0.901985\n",
            "[20]\tvalidation_0-auc:0.902484\n",
            "[21]\tvalidation_0-auc:0.902278\n",
            "[22]\tvalidation_0-auc:0.902294\n",
            "[23]\tvalidation_0-auc:0.902451\n",
            "[24]\tvalidation_0-auc:0.903214\n",
            "[25]\tvalidation_0-auc:0.904819\n",
            "[26]\tvalidation_0-auc:0.905079\n",
            "[27]\tvalidation_0-auc:0.906403\n",
            "[28]\tvalidation_0-auc:0.907313\n",
            "[29]\tvalidation_0-auc:0.909438\n",
            "[30]\tvalidation_0-auc:0.909114\n",
            "[31]\tvalidation_0-auc:0.90943\n",
            "[32]\tvalidation_0-auc:0.90997\n",
            "[33]\tvalidation_0-auc:0.911729\n",
            "[34]\tvalidation_0-auc:0.912402\n",
            "[35]\tvalidation_0-auc:0.91243\n",
            "[36]\tvalidation_0-auc:0.912636\n",
            "[37]\tvalidation_0-auc:0.91259\n",
            "[38]\tvalidation_0-auc:0.913091\n",
            "[39]\tvalidation_0-auc:0.913242\n",
            "[40]\tvalidation_0-auc:0.91332\n",
            "[41]\tvalidation_0-auc:0.913273\n",
            "[42]\tvalidation_0-auc:0.913265\n",
            "[43]\tvalidation_0-auc:0.913722\n",
            "[44]\tvalidation_0-auc:0.913805\n",
            "[45]\tvalidation_0-auc:0.914501\n",
            "[46]\tvalidation_0-auc:0.914936\n",
            "[47]\tvalidation_0-auc:0.914952\n",
            "[48]\tvalidation_0-auc:0.915367\n",
            "[49]\tvalidation_0-auc:0.915528\n",
            "[50]\tvalidation_0-auc:0.915895\n",
            "[51]\tvalidation_0-auc:0.916255\n",
            "[52]\tvalidation_0-auc:0.916952\n",
            "[53]\tvalidation_0-auc:0.917385\n",
            "[54]\tvalidation_0-auc:0.917594\n",
            "[55]\tvalidation_0-auc:0.917833\n",
            "[56]\tvalidation_0-auc:0.917886\n",
            "[57]\tvalidation_0-auc:0.91803\n",
            "[58]\tvalidation_0-auc:0.918422\n",
            "[59]\tvalidation_0-auc:0.918985\n",
            "[60]\tvalidation_0-auc:0.919148\n",
            "[61]\tvalidation_0-auc:0.919375\n",
            "[62]\tvalidation_0-auc:0.919452\n",
            "[63]\tvalidation_0-auc:0.919545\n",
            "[64]\tvalidation_0-auc:0.919949\n",
            "[65]\tvalidation_0-auc:0.920028\n",
            "[66]\tvalidation_0-auc:0.92013\n",
            "[67]\tvalidation_0-auc:0.920096\n",
            "[68]\tvalidation_0-auc:0.920372\n",
            "[69]\tvalidation_0-auc:0.920496\n",
            "[70]\tvalidation_0-auc:0.920648\n",
            "[71]\tvalidation_0-auc:0.920694\n",
            "[72]\tvalidation_0-auc:0.920843\n",
            "[73]\tvalidation_0-auc:0.921078\n",
            "[74]\tvalidation_0-auc:0.921195\n",
            "[75]\tvalidation_0-auc:0.921107\n",
            "[76]\tvalidation_0-auc:0.921058\n",
            "[77]\tvalidation_0-auc:0.921177\n",
            "[78]\tvalidation_0-auc:0.921388\n",
            "[79]\tvalidation_0-auc:0.921443\n",
            "[80]\tvalidation_0-auc:0.92144\n",
            "[81]\tvalidation_0-auc:0.921592\n",
            "[82]\tvalidation_0-auc:0.921728\n",
            "[83]\tvalidation_0-auc:0.922105\n",
            "[84]\tvalidation_0-auc:0.922111\n",
            "[85]\tvalidation_0-auc:0.922138\n",
            "[86]\tvalidation_0-auc:0.922413\n",
            "[87]\tvalidation_0-auc:0.922665\n",
            "[88]\tvalidation_0-auc:0.922874\n",
            "[89]\tvalidation_0-auc:0.92306\n",
            "[90]\tvalidation_0-auc:0.923152\n",
            "[91]\tvalidation_0-auc:0.923353\n",
            "[92]\tvalidation_0-auc:0.923529\n",
            "[93]\tvalidation_0-auc:0.923598\n",
            "[94]\tvalidation_0-auc:0.923805\n",
            "[95]\tvalidation_0-auc:0.92398\n",
            "[96]\tvalidation_0-auc:0.924087\n",
            "[97]\tvalidation_0-auc:0.92414\n",
            "[98]\tvalidation_0-auc:0.924125\n",
            "[99]\tvalidation_0-auc:0.924193\n",
            "CPU times: user 5min 56s, sys: 948 ms, total: 5min 57s\n",
            "Wall time: 5min 57s\n"
          ],
          "name": "stdout"
        },
        {
          "output_type": "execute_result",
          "data": {
            "text/plain": [
              "0.8395555555555556"
            ]
          },
          "metadata": {
            "tags": []
          },
          "execution_count": 8
        }
      ]
    },
    {
      "cell_type": "markdown",
      "metadata": {
        "id": "mnGKFEI1YZG5"
      },
      "source": [
        "## More sophisticated hyper parameter search"
      ]
    },
    {
      "cell_type": "code",
      "metadata": {
        "colab": {
          "base_uri": "https://localhost:8080/",
          "height": 249
        },
        "id": "k5dEg2fmYbOA",
        "outputId": "a36a07cd-9dbd-457d-9497-3d378474337e"
      },
      "source": [
        "xgb_model = xgb.XGBClassifier(objective=\"binary:logistic\")\n",
        "\n",
        "params = {\n",
        "    \"colsample_bytree\": uniform(0.7, 0.3),\n",
        "    \"gamma\": uniform(0, 0.5),\n",
        "    \"learning_rate\": uniform(0.03, 0.3), # default 0.1 \n",
        "    \"max_depth\": randint(2, 6), # default 3\n",
        "    \"n_estimators\": randint(100, 150), # default 100\n",
        "    \"subsample\": uniform(0.6, 0.4)\n",
        "}\n",
        "\n",
        "search = RandomizedSearchCV(xgb_model, param_distributions=params, random_state=42, n_iter=10, cv=3, verbose=1, n_jobs=1, return_train_score=True)\n",
        "\n",
        "search.fit(X_train, y_train)\n",
        "\n"
      ],
      "execution_count": null,
      "outputs": [
        {
          "output_type": "stream",
          "text": [
            "Fitting 3 folds for each of 10 candidates, totalling 30 fits\n"
          ],
          "name": "stdout"
        },
        {
          "output_type": "stream",
          "text": [
            "[Parallel(n_jobs=1)]: Using backend SequentialBackend with 1 concurrent workers.\n",
            "[Parallel(n_jobs=1)]: Done  30 out of  30 | elapsed:  4.1min finished\n"
          ],
          "name": "stderr"
        },
        {
          "output_type": "error",
          "ename": "NameError",
          "evalue": "ignored",
          "traceback": [
            "\u001b[0;31m---------------------------------------------------------------------------\u001b[0m",
            "\u001b[0;31mNameError\u001b[0m                                 Traceback (most recent call last)",
            "\u001b[0;32m<ipython-input-18-7cfa8a37dbf0>\u001b[0m in \u001b[0;36m<module>\u001b[0;34m()\u001b[0m\n\u001b[1;32m     14\u001b[0m \u001b[0msearch\u001b[0m\u001b[0;34m.\u001b[0m\u001b[0mfit\u001b[0m\u001b[0;34m(\u001b[0m\u001b[0mX_train\u001b[0m\u001b[0;34m,\u001b[0m \u001b[0my_train\u001b[0m\u001b[0;34m)\u001b[0m\u001b[0;34m\u001b[0m\u001b[0;34m\u001b[0m\u001b[0m\n\u001b[1;32m     15\u001b[0m \u001b[0;34m\u001b[0m\u001b[0m\n\u001b[0;32m---> 16\u001b[0;31m \u001b[0mreport_best_scores\u001b[0m\u001b[0;34m(\u001b[0m\u001b[0msearch\u001b[0m\u001b[0;34m.\u001b[0m\u001b[0mcv_results_\u001b[0m\u001b[0;34m,\u001b[0m \u001b[0;36m1\u001b[0m\u001b[0;34m)\u001b[0m\u001b[0;34m\u001b[0m\u001b[0;34m\u001b[0m\u001b[0m\n\u001b[0m",
            "\u001b[0;31mNameError\u001b[0m: name 'report_best_scores' is not defined"
          ]
        }
      ]
    },
    {
      "cell_type": "code",
      "metadata": {
        "colab": {
          "base_uri": "https://localhost:8080/"
        },
        "id": "PWkcYHdFfoor",
        "outputId": "c9c80d86-8efe-43da-8ae6-a9611cf206e6"
      },
      "source": [
        "def report_best_scores(results, n_top=3):\n",
        "    for i in range(1, n_top + 1):\n",
        "        candidates = np.flatnonzero(results['rank_test_score'] == i)\n",
        "        for candidate in candidates:\n",
        "            print(\"Model with rank: {0}\".format(i))\n",
        "            print(\"Mean validation score: {0:.3f} (std: {1:.3f})\".format(\n",
        "                  results['mean_test_score'][candidate],\n",
        "                  results['std_test_score'][candidate]))\n",
        "            print(\"Parameters: {0}\".format(results['params'][candidate]))\n",
        "            print(\"\")\n",
        "report_best_scores(search.cv_results_, 1) "
      ],
      "execution_count": null,
      "outputs": [
        {
          "output_type": "stream",
          "text": [
            "Model with rank: 1\n",
            "Mean validation score: 0.896 (std: 0.002)\n",
            "Parameters: {'colsample_bytree': 0.8835558684167137, 'gamma': 0.06974693032602092, 'learning_rate': 0.11764339456056544, 'max_depth': 5, 'n_estimators': 114, 'subsample': 0.7824279936868144}\n",
            "\n"
          ],
          "name": "stdout"
        }
      ]
    },
    {
      "cell_type": "markdown",
      "metadata": {
        "id": "qyJ3p20GfyAZ"
      },
      "source": [
        "# Train on these params\n",
        "\n",
        "For feat vecs:\n",
        "Parameters: {'colsample_bytree': 0.8835558684167137, 'gamma': 0.06974693032602092, 'learning_rate': 0.11764339456056544, 'max_depth': 5, 'n_estimators': 114, 'subsample': 0.7824279936868144}\n",
        "\n"
      ]
    },
    {
      "cell_type": "code",
      "metadata": {
        "colab": {
          "base_uri": "https://localhost:8080/"
        },
        "id": "MgrHJ6nff4CE",
        "outputId": "e4ec3c8c-f7b1-4d74-c9bc-3b8adf390d54"
      },
      "source": [
        "# if more than one evaluation metric are given the last one is used for early stopping\n",
        "xgb_model = xgb.XGBClassifier(objective=\"binary:logistic\", random_state=42, colsample_bytree=0.8835558684167137,\n",
        "                              gamma=0.06974693032602092, learning_rate=0.11764339456056544,\n",
        "                              max_depth=5,n_estimators=114,subsample=0.7824279, eval_metric=\"auc\")\n",
        "\n",
        "%time xgb_model.fit(X_train, y_train, early_stopping_rounds=5, eval_set=[(X_test, y_test)])\n",
        "\n",
        "y_pred = xgb_model.predict(X_test)\n",
        "\n",
        "accuracy_score(y_test, y_pred)"
      ],
      "execution_count": null,
      "outputs": [
        {
          "output_type": "stream",
          "text": [
            "[0]\tvalidation_0-auc:0.922966\n",
            "Will train until validation_0-auc hasn't improved in 5 rounds.\n",
            "[1]\tvalidation_0-auc:0.923672\n",
            "[2]\tvalidation_0-auc:0.923446\n",
            "[3]\tvalidation_0-auc:0.924609\n",
            "[4]\tvalidation_0-auc:0.924868\n",
            "[5]\tvalidation_0-auc:0.924608\n",
            "[6]\tvalidation_0-auc:0.925357\n",
            "[7]\tvalidation_0-auc:0.925657\n",
            "[8]\tvalidation_0-auc:0.926147\n",
            "[9]\tvalidation_0-auc:0.925938\n",
            "[10]\tvalidation_0-auc:0.925844\n",
            "[11]\tvalidation_0-auc:0.925917\n",
            "[12]\tvalidation_0-auc:0.925995\n",
            "[13]\tvalidation_0-auc:0.926154\n",
            "[14]\tvalidation_0-auc:0.926022\n",
            "[15]\tvalidation_0-auc:0.926023\n",
            "[16]\tvalidation_0-auc:0.926052\n",
            "[17]\tvalidation_0-auc:0.926022\n",
            "[18]\tvalidation_0-auc:0.92585\n",
            "Stopping. Best iteration:\n",
            "[13]\tvalidation_0-auc:0.926154\n",
            "\n",
            "CPU times: user 3.22 s, sys: 18 ms, total: 3.23 s\n",
            "Wall time: 3.23 s\n"
          ],
          "name": "stdout"
        },
        {
          "output_type": "execute_result",
          "data": {
            "text/plain": [
              "0.8422222222222222"
            ]
          },
          "metadata": {
            "tags": []
          },
          "execution_count": 22
        }
      ]
    },
    {
      "cell_type": "markdown",
      "metadata": {
        "id": "URDPo7hJgtmL"
      },
      "source": [
        "## Run on eval and output csvs"
      ]
    },
    {
      "cell_type": "code",
      "metadata": {
        "colab": {
          "base_uri": "https://localhost:8080/"
        },
        "id": "tYW_AUqRgx8o",
        "outputId": "e24a23e0-1f54-469f-e5de-82d3f7e6da14"
      },
      "source": [
        "# eval ids\n",
        "def load_ids(file_path):\n",
        "  with open(file_path) as f:\n",
        "    raw_data = [int(line.split()[0]) for line in f]\n",
        "  # print(raw_data)\n",
        "  return raw_data\n",
        "EVAL_IDS = '/content/drive/My Drive/Colab Notebooks/Machine Learning 2020/old-bailey-decisions/project_data/data/eval.ids'\n",
        "eval_ids = np.reshape(np.array(load_ids(EVAL_IDS),dtype=np.int32),(X_eval.shape[0],1))\n",
        "\n",
        "preds = xgb_model.predict(X_eval)\n",
        "preds[preds == -1] = 0\n",
        "\n",
        "predictions = np.reshape(preds,(X_eval.shape[0],1))\n",
        "print(predictions.shape)\n",
        "print(predictions)\n",
        "eval_out = np.hstack((eval_ids,predictions))\n",
        "print(eval_out.shape)\n",
        "print(eval_out)\n",
        "eval_df = pd.DataFrame(data = eval_out,index = None,columns=['example_id','label'])\n",
        "save_to_path = '/content/drive/My Drive/Colab Notebooks/Machine Learning 2020/old-bailey-decisions/xgb_vecs.csv'\n",
        "eval_df.to_csv(path_or_buf=save_to_path,index=False)"
      ],
      "execution_count": null,
      "outputs": [
        {
          "output_type": "stream",
          "text": [
            "(5250, 1)\n",
            "[[1.]\n",
            " [0.]\n",
            " [1.]\n",
            " ...\n",
            " [1.]\n",
            " [0.]\n",
            " [0.]]\n",
            "(5250, 2)\n",
            "[[0.000e+00 1.000e+00]\n",
            " [1.000e+00 0.000e+00]\n",
            " [2.000e+00 1.000e+00]\n",
            " ...\n",
            " [5.247e+03 1.000e+00]\n",
            " [5.248e+03 0.000e+00]\n",
            " [5.249e+03 0.000e+00]]\n"
          ],
          "name": "stdout"
        }
      ]
    },
    {
      "cell_type": "markdown",
      "metadata": {
        "id": "6mjJvouddXqx"
      },
      "source": [
        "## Graphing feature importance... cool!"
      ]
    },
    {
      "cell_type": "code",
      "metadata": {
        "id": "pgpvTPzgdZpZ"
      },
      "source": [
        "# requires graphviz and python-graphviz conda packages\n",
        "import graphviz\n",
        "\n",
        "\n",
        "xgb_model = xgb.XGBClassifier(objective=\"binary:logistic\", random_state=42, eval_metric=\"auc\")\n",
        "\n",
        "X_train, X_test, y_train, y_test = train_test_split(X, y, random_state=42)\n",
        "\n",
        "xgb_model.fit(X_train, y_train, early_stopping_rounds=10, eval_set=[(X_test, y_test)], verbose=False)\n",
        "\n",
        "xgb.plot_importance(xgb_model)\n",
        "\n",
        "# plot the output tree via matplotlib, specifying the ordinal number of the target tree\n",
        "# xgb.plot_tree(xgb_model, num_trees=xgb_model.best_iteration)\n",
        "\n",
        "# converts the target tree to a graphviz instance\n",
        "xgb.to_graphviz(xgb_model, num_trees=xgb_model.best_iteration)"
      ],
      "execution_count": null,
      "outputs": []
    }
  ]
}