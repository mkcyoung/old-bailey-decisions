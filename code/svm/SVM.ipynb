{
  "nbformat": 4,
  "nbformat_minor": 0,
  "metadata": {
    "colab": {
      "name": "SVM.ipynb",
      "provenance": [],
      "collapsed_sections": [],
      "toc_visible": true
    },
    "kernelspec": {
      "name": "python3",
      "display_name": "Python 3"
    }
  },
  "cells": [
    {
      "cell_type": "markdown",
      "metadata": {
        "id": "wBUCawsmEjGY"
      },
      "source": [
        "# SVM implementation"
      ]
    },
    {
      "cell_type": "code",
      "metadata": {
        "id": "vVkDCU22EdVu"
      },
      "source": [
        "import numpy as np\n",
        "from copy import copy\n",
        "import pandas as pd\n",
        "import math\n",
        "import random\n",
        "import matplotlib.pyplot as plt\n",
        "from tqdm import tqdm\n",
        "%matplotlib inline"
      ],
      "execution_count": null,
      "outputs": []
    },
    {
      "cell_type": "markdown",
      "metadata": {
        "id": "Ji_oJxqAEnE3"
      },
      "source": [
        "Initializing random seed and global path variables"
      ]
    },
    {
      "cell_type": "code",
      "metadata": {
        "id": "_AbCUss7Ey6D"
      },
      "source": [
        "# Initializing\n",
        "\n",
        "np.random.seed(42)\n",
        "TRAINING_PATH = '/content/drive/My Drive/Colab Notebooks/Machine Learning 2020/old-bailey-decisions/project_data/processed_features/misc_train_processed.csv'\n",
        "TESTING_PATH = '/content/drive/My Drive/Colab Notebooks/Machine Learning 2020/old-bailey-decisions/project_data/processed_features/misc_test_processed.csv'\n",
        "EVAL_PATH = '/content/drive/My Drive/Colab Notebooks/Machine Learning 2020/old-bailey-decisions/project_data/processed_features/misc_eval_processed.csv'\n",
        "\n",
        "TRAINING_PATH_GLOVE = '/content/drive/My Drive/Colab Notebooks/Machine Learning 2020/old-bailey-decisions/project_data/processed_features/glove_misc_train.csv'\n",
        "TESTING_PATH_GLOVE = '/content/drive/My Drive/Colab Notebooks/Machine Learning 2020/old-bailey-decisions/project_data/processed_features/glove_misc_test.csv'\n",
        "EVAL_PATH_GLOVE = '/content/drive/My Drive/Colab Notebooks/Machine Learning 2020/old-bailey-decisions/project_data/processed_features/glove_misc_eval.csv'\n",
        "\n",
        "TRAINING_PATH_TF = '/content/drive/My Drive/Colab Notebooks/Machine Learning 2020/old-bailey-decisions/project_data/processed_features/tf_misc_train.csv'\n",
        "TESTING_PATH_TF = '/content/drive/My Drive/Colab Notebooks/Machine Learning 2020/old-bailey-decisions/project_data/processed_features/tf_misc_test.csv'\n",
        "EVAL_PATH_TF = '/content/drive/My Drive/Colab Notebooks/Machine Learning 2020/old-bailey-decisions/project_data/processed_features/tf_misc_eval.csv'\n",
        "\n",
        "TRAINING_PATH_BOW = '/content/drive/My Drive/Colab Notebooks/Machine Learning 2020/old-bailey-decisions/project_data/processed_features/bow_misc_train.csv'\n",
        "TESTING_PATH_BOW = '/content/drive/My Drive/Colab Notebooks/Machine Learning 2020/old-bailey-decisions/project_data/processed_features/bow_misc_test.csv'\n",
        "EVAL_PATH_BOW = '/content/drive/My Drive/Colab Notebooks/Machine Learning 2020/old-bailey-decisions/project_data/processed_features/bow_misc_eval.csv'\n",
        "\n",
        "EVAL_IDS = '/content/drive/My Drive/Colab Notebooks/Machine Learning 2020/old-bailey-decisions/project_data/data/eval.ids'\n",
        "\n",
        "# Feature vector paths\n",
        "X_TRAIN = '/content/drive/My Drive/Colab Notebooks/Machine Learning 2020/old-bailey-decisions/extracted features/X_train_vec.npy'\n",
        "y_TRAIN = '/content/drive/My Drive/Colab Notebooks/Machine Learning 2020/old-bailey-decisions/extracted features/y_train_vec.npy'\n",
        "\n",
        "X_TEST = '/content/drive/My Drive/Colab Notebooks/Machine Learning 2020/old-bailey-decisions/extracted features/X_test_vec.npy'\n",
        "y_TEST = '/content/drive/My Drive/Colab Notebooks/Machine Learning 2020/old-bailey-decisions/extracted features/y_test_vec.npy'\n",
        "\n",
        "X_EVAL = '/content/drive/My Drive/Colab Notebooks/Machine Learning 2020/old-bailey-decisions/extracted features/X_eval_vec.npy'\n",
        "y_EVAL = '/content/drive/My Drive/Colab Notebooks/Machine Learning 2020/old-bailey-decisions/extracted features/y_eval_vec.npy'\n",
        "\n"
      ],
      "execution_count": null,
      "outputs": []
    },
    {
      "cell_type": "markdown",
      "metadata": {
        "id": "BatX_QPVE5or"
      },
      "source": [
        "## Data class\n",
        "\n",
        "w/ some other helper functions"
      ]
    },
    {
      "cell_type": "code",
      "metadata": {
        "id": "AHJajx65E5_t"
      },
      "source": [
        "# Defining Data class\n",
        "# Will define new data class using csv and numpy\n",
        "\n",
        "class Data:\n",
        "  def __init__(self,file_path=None):\n",
        "    if file_path != None:\n",
        "      self.raw_data,\\\n",
        "      self.y,\\\n",
        "      self.X,\\\n",
        "      self.num_examples,\\\n",
        "      self.num_features = self.load_data_from_path(file_path)\n",
        "\n",
        "  def load_data_from_path(self,file_path):\n",
        "    # data = np.loadtxt(file_path, delimiter = \",\")\n",
        "    raw_data = pd.read_csv(file_path)\n",
        "    data = raw_data.to_numpy()\n",
        "    labels = data[:,0]\n",
        "    instances = data[:,1:]\n",
        "\n",
        "    # Add a 1 to the end of each instance\n",
        "    bias = np.ones((data.shape[0],1))\n",
        "    instances = np.append(instances,bias,axis=1)\n",
        "\n",
        "    num_examples = data.shape[0]\n",
        "    num_features = instances.shape[1]\n",
        "    return data,labels,instances,num_examples,num_features\n",
        "\n",
        "  def load_data(self,raw_data):\n",
        "    self.raw_data = raw_data\n",
        "    self.y = raw_data[:,0]\n",
        "    self.y[self.y == 0] = - 1\n",
        "    instances = raw_data[:,1:]\n",
        "    # Add a 1 to the end of each instance\n",
        "    bias = np.ones((raw_data.shape[0],1))\n",
        "    self.X = np.append(instances,bias,axis=1)\n",
        "    self.num_examples = raw_data.shape[0]\n",
        "    self.num_features = self.X.shape[1]\n",
        "\n",
        "  # For loading in feature vectors from NN\n",
        "  def load_data_np(self,X,y):\n",
        "    y[y==0] = -1\n",
        "    self.raw_data = np.append(y,X,axis=1)\n",
        "    bias = np.ones((X.shape[0],1))\n",
        "    self.X = np.append(X,bias,axis=1)\n",
        "    self.y = np.ravel(y)\n",
        "    self.num_examples = X.shape[0]\n",
        "    self.num_features = self.X.shape[1]\n",
        "\n",
        "  def add_bias_to_features(self):\n",
        "    # Add a 1 to the end of each instance\n",
        "    bias = np.ones((self.num_examples,1))\n",
        "    self.X = np.append(self.X,bias,axis=1)\n",
        "\n",
        "  def add_data(self,data):\n",
        "    # takes as input another data object and adds that data to this object\n",
        "    self.raw_data = np.vstack((self.raw_data,data.raw_data))\n",
        "    self.X = np.vstack((self.X,data.X))\n",
        "    self.y = np.hstack((self.y,data.y))\n",
        "    self.num_examples += data.num_examples\n",
        "\n",
        "  # returns shuffled labels and instances\n",
        "  def shuffle_data(self):\n",
        "    shuffled_raw_data = np.copy(self.raw_data)\n",
        "    np.random.shuffle(shuffled_raw_data)\n",
        "    shuffled_labels = shuffled_raw_data[:,0]\n",
        "    shuffled_instances = shuffled_raw_data[:,1:]\n",
        "    # add in bias\n",
        "    bias = np.ones((shuffled_raw_data.shape[0],1))\n",
        "    shuffled_instances = np.append(shuffled_instances,bias,axis=1)\n",
        "\n",
        "    return shuffled_instances,shuffled_labels\n",
        "\n",
        "\n",
        "# plot learning curve\n",
        "def plot_learning(x,y,title,x_label,y_label):\n",
        "  # Let's plot\n",
        "  plt.style.use('default')\n",
        "  plt.rcParams['font.family'] = 'Avenir'\n",
        "  plt.figure(figsize = (11,4.5))\n",
        "  # My PCA\n",
        "  plt.plot(x,y)\n",
        "  plt.title(title,fontsize=15)\n",
        "  plt.xlabel(x_label)\n",
        "  plt.ylabel(y_label)\n",
        "  [i.set_linewidth(0.4) for i in plt.gca().spines.values()]\n"
      ],
      "execution_count": null,
      "outputs": []
    },
    {
      "cell_type": "markdown",
      "metadata": {
        "id": "oBKERD4PImsz"
      },
      "source": [
        "SVM class from hw6, may need to make some adjustments to accomodate this dataset."
      ]
    },
    {
      "cell_type": "code",
      "metadata": {
        "id": "iKMmU5kYIsPR"
      },
      "source": [
        "# SVM Class\n",
        "\n",
        "class SVM:\n",
        "  def __init__(self):\n",
        "    self.W = None\n",
        "    self.Weights = {} # init empty dict of Weights, add to this for each epoch\n",
        "    self.accuracies = {} # init empty dict of accuracies, which I store at end of each epoch\n",
        "    self.loss = {} # dictionary contatining loss at each step\n",
        "    self.num_updates = 0 # records number of updates made \n",
        "\n",
        "  def initialize_weights(self,num_features):\n",
        "    self.W = np.array([np.random.uniform(-0.01,0.01) for _ in range(num_features)])\n",
        "    # self.W = np.zeros((num_features)) # init to zeros\n",
        "  \n",
        "  def train(self,data,epochs=1,learning_rate=1,reg_strength=1):\n",
        "    C = reg_strength\n",
        "    epochs = epochs\n",
        "    N = data.num_examples\n",
        "    D = data.num_features\n",
        "    # print(\"N:\",N,\"D (including b):\",D)\n",
        "    # initialize weights\n",
        "    self.initialize_weights(D)\n",
        "    \n",
        "    for t in range(epochs):\n",
        "      lr = learning_rate / (1 + t) # we use a decaying learning rate\n",
        "      # shuffle data\n",
        "      X,y = data.shuffle_data()\n",
        "      # loop over each example in the training set\n",
        "      for i in range(N):\n",
        "        v = y[i]*(self.W.T.dot(X[i]))\n",
        "        # print(v)\n",
        "        if v <= 1.0: \n",
        "          self.W = (1.0-lr)*self.W + (lr*C*y[i])*X[i]\n",
        "        else:\n",
        "          self.W = (1.0-lr)*self.W\n",
        "      # store this iteration of weights \n",
        "      self.Weights[t] = self.W\n",
        "      # store the accuracy of these weights\n",
        "      self.accuracies[t] = self.get_accuracy_own_weights(data,self.W)\n",
        "      # Compute and store the loss \n",
        "      self.loss[t] = self.compute_loss(data,self.W,C)\n",
        "\n",
        "\n",
        "  # Helper methods for predicting and accuracy\n",
        "  def get_best_weights_and_bias(self):\n",
        "    # print(self.accuracies.items())\n",
        "    best_epoch = max(self.accuracies,key=self.accuracies.get)\n",
        "    # print(\"best epoch: \",best_epoch)\n",
        "    return self.Weights[best_epoch],best_epoch\n",
        "\n",
        "  def predict(self,data):\n",
        "    predictions = np.sign(data.dot(self.W))\n",
        "    return predictions\n",
        "\n",
        "  def get_predict_accuracy(self,data):\n",
        "    predictions = self.predict(data.X)\n",
        "    equal = np.equal(predictions,data.y)\n",
        "    return np.sum(equal)/data.num_examples\n",
        "\n",
        "  def get_accuracy_own_weights(self,data,W):\n",
        "    predictions = np.sign(data.X.dot(W)) # Should the prediction have a margin? No, I don't think so\n",
        "    equal = np.equal(predictions,data.y)\n",
        "    return np.sum(equal)/data.num_examples\n",
        "\n",
        "  def compute_loss(self,data,W,C):\n",
        "    # \"Loss\" of the entire dataset\n",
        "    X = data.X\n",
        "    y = data.y\n",
        "    loss = 0.5*(W.T.dot(W)) \n",
        "    a = 1 - y*W.dot(X.T)\n",
        "    a[a<0] = 0\n",
        "    return loss + C*np.sum(a)"
      ],
      "execution_count": null,
      "outputs": []
    },
    {
      "cell_type": "markdown",
      "metadata": {
        "id": "UPMLkAltI_v5"
      },
      "source": [
        "## Load data\n",
        "\n",
        "Takes a while b/c I'm loading from csv."
      ]
    },
    {
      "cell_type": "code",
      "metadata": {
        "id": "QHtoFB2mObv2"
      },
      "source": [
        "\n",
        "# TF-IDF + Misc\n",
        "# train_data = Data(TRAINING_PATH_TF)\n",
        "# test_data = Data(TESTING_PATH_TF)\n",
        "\n",
        "# NN feature vecs\n",
        "train_data = Data()\n",
        "test_data = Data()\n",
        "eval_data = Data()\n",
        "\n",
        "X_train = np.load(X_TRAIN)\n",
        "y_train = np.load(y_TRAIN)\n",
        "X_test = np.load(X_TEST)\n",
        "y_test = np.load(y_TEST)\n",
        "X_eval = np.load(X_EVAL)\n",
        "y_eval = np.load(y_EVAL)\n",
        "\n",
        "train_data.load_data_np(X_train,y_train)\n",
        "test_data.load_data_np(X_test,y_test)\n",
        "eval_data.load_data_np(X_eval,y_eval)\n",
        "\n",
        "\n",
        "# Glove + Misc\n",
        "# train_data = Data(TRAINING_PATH_GLOVE)\n",
        "# test_data = Data(TESTING_PATH_GLOVE)\n",
        "\n",
        "# BOW + Misc\n",
        "# train_data = Data(TRAINING_PATH_BOW)\n",
        "# test_data = Data(TESTING_PATH_BOW)\n",
        "\n",
        "# # Misc\n",
        "# misc_train_data = Data(TRAINING_PATH)\n",
        "# misc_test_data = Data(TESTING_PATH)\n"
      ],
      "execution_count": null,
      "outputs": []
    },
    {
      "cell_type": "code",
      "metadata": {
        "colab": {
          "base_uri": "https://localhost:8080/"
        },
        "id": "MRrMRJjCJQKS",
        "outputId": "6c2c33be-8160-43f8-dec2-fd95e525e97d"
      },
      "source": [
        "train_data.y"
      ],
      "execution_count": null,
      "outputs": [
        {
          "output_type": "execute_result",
          "data": {
            "text/plain": [
              "array([ 1.,  1., -1., ...,  1.,  1.,  1.])"
            ]
          },
          "metadata": {
            "tags": []
          },
          "execution_count": 56
        }
      ]
    },
    {
      "cell_type": "markdown",
      "metadata": {
        "id": "qJfXvbyOnDmP"
      },
      "source": [
        "## Initial training \n",
        "\n",
        "Try some params I think may be good and see how long it takes/ how good the params are."
      ]
    },
    {
      "cell_type": "code",
      "metadata": {
        "colab": {
          "base_uri": "https://localhost:8080/",
          "height": 953
        },
        "id": "KpRBttI1nLbE",
        "outputId": "331deed5-a869-438b-d533-4624cfa09a66"
      },
      "source": [
        "learning_rate = 0.00001\n",
        "C = 10000\n",
        "\n",
        "epochs = 10\n",
        "svm = SVM()\n",
        "%time svm.train(train_data,epochs,learning_rate,C)\n",
        "\n",
        "# test set accuracy\n",
        "# Get the best weights and bias from this training\n",
        "W,best_epoch = svm.get_best_weights_and_bias()\n",
        "# training set accuracy:\n",
        "print(\"best training set accuracy: \", svm.accuracies[best_epoch] )\n",
        "# Use these weights and bias to evaluate on the test set\n",
        "test_accuracy = svm.get_accuracy_own_weights(test_data,W)\n",
        "print(\"final test accuracy: \",test_accuracy)\n",
        "\n",
        "y = list(svm.accuracies.values())\n",
        "x = [i for i in range(epochs)]\n",
        "title = 'SVM training learning curve'\n",
        "plot_learning(x,y,title,'epochs','training accuracy')\n",
        "\n",
        "y = list(svm.loss.values())\n",
        "x = [i for i in range(epochs)]\n",
        "title = 'SVM training loss'\n",
        "plot_learning(x,y,title,'epochs','loss')\n"
      ],
      "execution_count": null,
      "outputs": [
        {
          "output_type": "stream",
          "text": [
            "CPU times: user 1.63 s, sys: 894 ms, total: 2.52 s\n",
            "Wall time: 1.45 s\n",
            "best training set accuracy:  0.9009714285714285\n",
            "final test accuracy:  0.8404444444444444\n"
          ],
          "name": "stdout"
        },
        {
          "output_type": "display_data",
          "data": {
            "image/png": "[encoded data removed]",
            "text/plain": [
              "<Figure size 1100x450 with 1 Axes>"
            ]
          },
          "metadata": {
            "tags": []
          }
        },
        {
          "output_type": "display_data",
          "data": {
            "image/png": "[encoded data removed]",
            "text/plain": [
              "<Figure size 1100x450 with 1 Axes>"
            ]
          },
          "metadata": {
            "tags": []
          }
        }
      ]
    },
    {
      "cell_type": "markdown",
      "metadata": {
        "id": "OrINIwciOhGt"
      },
      "source": [
        "## Make cross validation folds"
      ]
    },
    {
      "cell_type": "code",
      "metadata": {
        "id": "xvEIM54pOjX6"
      },
      "source": [
        "# Validation splits - split training data into k splits\n",
        "\n",
        "k = 3\n",
        "folds = np.array_split(train_data.raw_data,k)"
      ],
      "execution_count": null,
      "outputs": []
    },
    {
      "cell_type": "markdown",
      "metadata": {
        "id": "DQpFOtFvOkRS"
      },
      "source": [
        "## Cross validate\n",
        "\n",
        "Will use tf-idf + misc attributes b/c this is what's worked the best in the past. Once I get the best params, will run on other datasets just to confirm.\n",
        "\n",
        "Not using an exhaustive search b/c this takes FOREVER."
      ]
    },
    {
      "cell_type": "code",
      "metadata": {
        "id": "qsUajcCCOxDq"
      },
      "source": [
        "def cross_validate(epochs,folds,learning_rates,regularizations,verbose=False,model=SVM()):\n",
        "\n",
        "  # dictionaries storing accuracies corresponding to certain hyper parameter combinations\n",
        "  mean_accuracies = {} \n",
        "  standard_deviations = {}\n",
        "\n",
        "  num_combs = len(learning_rates)*len(regularizations)\n",
        "  progress = 0\n",
        "  \n",
        "  for lr in tqdm(learning_rates):\n",
        "    for C in tqdm(regularizations):\n",
        "      accuracies = []\n",
        "      # Need to concatenate 4 of the folds into one training set and leave out one as my test set\n",
        "      for i in tqdm(range(k)):\n",
        "        # Initialize new data objects\n",
        "        val_data = Data()\n",
        "        train_data = Data()\n",
        "        folds_copy = list.copy(folds)\n",
        "        # Set validation data\n",
        "        val_data.load_data(np.array(folds_copy.pop(i)))\n",
        "        # set training data\n",
        "        train_data.load_data(np.concatenate(folds_copy,axis=0))\n",
        "        # train on folds\n",
        "        svm = model\n",
        "        svm.train(train_data,epochs,lr,C)\n",
        "        weights,best_epoch = svm.get_best_weights_and_bias()\n",
        "        # calculate validation accuracy\n",
        "        val_accuracy = svm.get_accuracy_own_weights(val_data,weights)\n",
        "        accuracies.append(val_accuracy)\n",
        "\n",
        "      mean_accuracies[(lr,C)] = np.mean(accuracies)\n",
        "      standard_deviations[(lr,C)] = np.std(accuracies)\n",
        "      if verbose == True:\n",
        "        print(\"accuracy: \",mean_accuracies[(lr,C)],\"lr: \",lr,\"C: \",C)\n",
        "        # print(\"list\",accuracies)\n",
        "        progress += 1\n",
        "        print(\"{:.4}% complete\".format(100*progress/num_combs))\n",
        "\n",
        "  print(mean_accuracies.items())\n",
        "  print(standard_deviations.items())\n",
        "  best_vals = max(mean_accuracies,key=mean_accuracies.get)\n",
        "  print(\"best lr: \",best_vals[0],\"best C: \",best_vals[1],\"cross-val accuracy: \",mean_accuracies[best_vals])\n",
        "  return best_vals"
      ],
      "execution_count": null,
      "outputs": []
    },
    {
      "cell_type": "code",
      "metadata": {
        "colab": {
          "base_uri": "https://localhost:8080/"
        },
        "id": "GakJglndc0jS",
        "outputId": "2a609836-70bf-4684-9c43-17f42cf9fc14"
      },
      "source": [
        "# cross validate svm\n",
        "\n",
        "epochs = 4\n",
        "# learning_rates = [10**0, 10**-1, 10**-2, 10**-3, 10**-4]\n",
        "learning_rates = [10**0, 10**-2, 10**-4, 10**-4]\n",
        "# regularizations = [10**3, 10**2, 10**1, 10**0, 10**-1, 10**-2]\n",
        "regularizations = [10**5, 10**4, 10**3, 10**-1, 10**-2]\n",
        "\n",
        "best_vals = cross_validate(epochs,folds,learning_rates,regularizations,verbose=True)"
      ],
      "execution_count": null,
      "outputs": [
        {
          "output_type": "stream",
          "text": [
            "  0%|          | 0/4 [00:00<?, ?it/s]\n",
            "  0%|          | 0/5 [00:00<?, ?it/s]\u001b[A\n",
            "\n",
            "  0%|          | 0/3 [00:00<?, ?it/s]\u001b[A\u001b[A\n",
            "\n",
            " 33%|███▎      | 1/3 [00:00<00:00,  2.23it/s]\u001b[A\u001b[A\n",
            "\n",
            " 67%|██████▋   | 2/3 [00:00<00:00,  2.19it/s]\u001b[A\u001b[A\n",
            "\n",
            "100%|██████████| 3/3 [00:01<00:00,  2.11it/s]\n",
            "\n",
            " 20%|██        | 1/5 [00:01<00:05,  1.43s/it]\u001b[A\n",
            "\n",
            "  0%|          | 0/3 [00:00<?, ?it/s]\u001b[A\u001b[A"
          ],
          "name": "stderr"
        },
        {
          "output_type": "stream",
          "text": [
            "accuracy:  0.8877715780340493 lr:  1 C:  100000\n",
            "5.0% complete\n"
          ],
          "name": "stdout"
        },
        {
          "output_type": "stream",
          "text": [
            "\n",
            "\n",
            " 33%|███▎      | 1/3 [00:00<00:00,  2.17it/s]\u001b[A\u001b[A\n",
            "\n",
            " 67%|██████▋   | 2/3 [00:00<00:00,  2.14it/s]\u001b[A\u001b[A\n",
            "\n",
            "100%|██████████| 3/3 [00:01<00:00,  2.12it/s]\n",
            "\n",
            " 40%|████      | 2/5 [00:02<00:04,  1.43s/it]\u001b[A\n",
            "\n",
            "  0%|          | 0/3 [00:00<?, ?it/s]\u001b[A\u001b[A"
          ],
          "name": "stderr"
        },
        {
          "output_type": "stream",
          "text": [
            "accuracy:  0.8872002441473565 lr:  1 C:  10000\n",
            "10.0% complete\n"
          ],
          "name": "stdout"
        },
        {
          "output_type": "stream",
          "text": [
            "\n",
            "\n",
            " 33%|███▎      | 1/3 [00:00<00:00,  2.13it/s]\u001b[A\u001b[A\n",
            "\n",
            " 67%|██████▋   | 2/3 [00:00<00:00,  2.13it/s]\u001b[A\u001b[A\n",
            "\n",
            "100%|██████████| 3/3 [00:01<00:00,  2.07it/s]\n",
            "\n",
            " 60%|██████    | 3/5 [00:04<00:02,  1.44s/it]\u001b[A\n",
            "\n",
            "  0%|          | 0/3 [00:00<?, ?it/s]\u001b[A\u001b[A"
          ],
          "name": "stderr"
        },
        {
          "output_type": "stream",
          "text": [
            "accuracy:  0.887714451502131 lr:  1 C:  1000\n",
            "15.0% complete\n"
          ],
          "name": "stdout"
        },
        {
          "output_type": "stream",
          "text": [
            "\n",
            "\n",
            " 33%|███▎      | 1/3 [00:00<00:00,  2.00it/s]\u001b[A\u001b[A\n",
            "\n",
            " 67%|██████▋   | 2/3 [00:01<00:00,  1.98it/s]\u001b[A\u001b[A\n",
            "\n",
            "100%|██████████| 3/3 [00:01<00:00,  1.98it/s]\n",
            "\n",
            " 80%|████████  | 4/5 [00:05<00:01,  1.46s/it]\u001b[A\n",
            "\n",
            "  0%|          | 0/3 [00:00<?, ?it/s]\u001b[A\u001b[A"
          ],
          "name": "stderr"
        },
        {
          "output_type": "stream",
          "text": [
            "accuracy:  0.8874287110935944 lr:  1 C:  0.1\n",
            "20.0% complete\n"
          ],
          "name": "stdout"
        },
        {
          "output_type": "stream",
          "text": [
            "\n",
            "\n",
            " 33%|███▎      | 1/3 [00:00<00:01,  1.83it/s]\u001b[A\u001b[A\n",
            "\n",
            " 67%|██████▋   | 2/3 [00:01<00:00,  1.84it/s]\u001b[A\u001b[A\n",
            "\n",
            "100%|██████████| 3/3 [00:01<00:00,  1.82it/s]\n",
            "\n",
            "100%|██████████| 5/5 [00:07<00:00,  1.50s/it]\n",
            " 25%|██▌       | 1/4 [00:07<00:22,  7.50s/it]\n",
            "  0%|          | 0/5 [00:00<?, ?it/s]\u001b[A\n",
            "\n",
            "  0%|          | 0/3 [00:00<?, ?it/s]\u001b[A\u001b[A"
          ],
          "name": "stderr"
        },
        {
          "output_type": "stream",
          "text": [
            "accuracy:  0.8870859519020854 lr:  1 C:  0.01\n",
            "25.0% complete\n"
          ],
          "name": "stdout"
        },
        {
          "output_type": "stream",
          "text": [
            "\n",
            "\n",
            " 33%|███▎      | 1/3 [00:00<00:00,  2.17it/s]\u001b[A\u001b[A\n",
            "\n",
            " 67%|██████▋   | 2/3 [00:00<00:00,  2.17it/s]\u001b[A\u001b[A\n",
            "\n",
            "100%|██████████| 3/3 [00:01<00:00,  2.10it/s]\n",
            "\n",
            " 20%|██        | 1/5 [00:01<00:05,  1.43s/it]\u001b[A\n",
            "\n",
            "  0%|          | 0/3 [00:00<?, ?it/s]\u001b[A\u001b[A"
          ],
          "name": "stderr"
        },
        {
          "output_type": "stream",
          "text": [
            "accuracy:  0.888171669460009 lr:  0.01 C:  100000\n",
            "30.0% complete\n"
          ],
          "name": "stdout"
        },
        {
          "output_type": "stream",
          "text": [
            "\n",
            "\n",
            " 33%|███▎      | 1/3 [00:00<00:00,  2.23it/s]\u001b[A\u001b[A\n",
            "\n",
            " 67%|██████▋   | 2/3 [00:00<00:00,  2.22it/s]\u001b[A\u001b[A\n",
            "\n",
            "100%|██████████| 3/3 [00:01<00:00,  2.18it/s]\n",
            "\n",
            " 40%|████      | 2/5 [00:02<00:04,  1.42s/it]\u001b[A\n",
            "\n",
            "  0%|          | 0/3 [00:00<?, ?it/s]\u001b[A\u001b[A"
          ],
          "name": "stderr"
        },
        {
          "output_type": "stream",
          "text": [
            "accuracy:  0.8878858800746791 lr:  0.01 C:  10000\n",
            "35.0% complete\n"
          ],
          "name": "stdout"
        },
        {
          "output_type": "stream",
          "text": [
            "\n",
            "\n",
            " 33%|███▎      | 1/3 [00:00<00:00,  2.25it/s]\u001b[A\u001b[A\n",
            "\n",
            " 67%|██████▋   | 2/3 [00:00<00:00,  2.25it/s]\u001b[A\u001b[A\n",
            "\n",
            "100%|██████████| 3/3 [00:01<00:00,  2.10it/s]\n",
            "\n",
            " 60%|██████    | 3/5 [00:04<00:02,  1.43s/it]\u001b[A\n",
            "\n",
            "  0%|          | 0/3 [00:00<?, ?it/s]\u001b[A\u001b[A"
          ],
          "name": "stderr"
        },
        {
          "output_type": "stream",
          "text": [
            "accuracy:  0.8883430098743289 lr:  0.01 C:  1000\n",
            "40.0% complete\n"
          ],
          "name": "stdout"
        },
        {
          "output_type": "stream",
          "text": [
            "\n",
            "\n",
            " 33%|███▎      | 1/3 [00:00<00:01,  1.98it/s]\u001b[A\u001b[A\n",
            "\n",
            " 67%|██████▋   | 2/3 [00:01<00:00,  1.97it/s]\u001b[A\u001b[A\n",
            "\n",
            "100%|██████████| 3/3 [00:01<00:00,  1.96it/s]\n",
            "\n",
            " 80%|████████  | 4/5 [00:05<00:01,  1.46s/it]\u001b[A\n",
            "\n",
            "  0%|          | 0/3 [00:00<?, ?it/s]\u001b[A\u001b[A"
          ],
          "name": "stderr"
        },
        {
          "output_type": "stream",
          "text": [
            "accuracy:  0.8878288417009891 lr:  0.01 C:  0.1\n",
            "45.0% complete\n"
          ],
          "name": "stdout"
        },
        {
          "output_type": "stream",
          "text": [
            "\n",
            "\n",
            " 33%|███▎      | 1/3 [00:00<00:01,  1.82it/s]\u001b[A\u001b[A\n",
            "\n",
            " 67%|██████▋   | 2/3 [00:01<00:00,  1.81it/s]\u001b[A\u001b[A\n",
            "\n",
            "100%|██████████| 3/3 [00:01<00:00,  1.78it/s]\n",
            "\n",
            "100%|██████████| 5/5 [00:07<00:00,  1.50s/it]\n",
            " 50%|█████     | 2/4 [00:15<00:15,  7.51s/it]\n",
            "  0%|          | 0/5 [00:00<?, ?it/s]\u001b[A\n",
            "\n",
            "  0%|          | 0/3 [00:00<?, ?it/s]\u001b[A\u001b[A"
          ],
          "name": "stderr"
        },
        {
          "output_type": "stream",
          "text": [
            "accuracy:  0.8873716629245458 lr:  0.01 C:  0.01\n",
            "50.0% complete\n"
          ],
          "name": "stdout"
        },
        {
          "output_type": "stream",
          "text": [
            "\n",
            "\n",
            " 33%|███▎      | 1/3 [00:00<00:00,  2.27it/s]\u001b[A\u001b[A\n",
            "\n",
            " 67%|██████▋   | 2/3 [00:00<00:00,  2.24it/s]\u001b[A\u001b[A\n",
            "\n",
            "100%|██████████| 3/3 [00:01<00:00,  2.23it/s]\n",
            "\n",
            " 20%|██        | 1/5 [00:01<00:05,  1.35s/it]\u001b[A\n",
            "\n",
            "  0%|          | 0/3 [00:00<?, ?it/s]\u001b[A\u001b[A"
          ],
          "name": "stderr"
        },
        {
          "output_type": "stream",
          "text": [
            "accuracy:  0.8924001494928463 lr:  0.0001 C:  100000\n",
            "55.0% complete\n"
          ],
          "name": "stdout"
        },
        {
          "output_type": "stream",
          "text": [
            "\n",
            "\n",
            " 33%|███▎      | 1/3 [00:00<00:00,  2.17it/s]\u001b[A\u001b[A\n",
            "\n",
            " 67%|██████▋   | 2/3 [00:00<00:00,  2.20it/s]\u001b[A\u001b[A\n",
            "\n",
            "100%|██████████| 3/3 [00:01<00:00,  2.21it/s]\n",
            "\n",
            " 40%|████      | 2/5 [00:02<00:04,  1.36s/it]\u001b[A\n",
            "\n",
            "  0%|          | 0/3 [00:00<?, ?it/s]\u001b[A\u001b[A"
          ],
          "name": "stderr"
        },
        {
          "output_type": "stream",
          "text": [
            "accuracy:  0.8912571584726239 lr:  0.0001 C:  10000\n",
            "60.0% complete\n"
          ],
          "name": "stdout"
        },
        {
          "output_type": "stream",
          "text": [
            "\n",
            "\n",
            " 33%|███▎      | 1/3 [00:00<00:00,  2.18it/s]\u001b[A\u001b[A\n",
            "\n",
            " 67%|██████▋   | 2/3 [00:00<00:00,  2.19it/s]\u001b[A\u001b[A\n",
            "\n",
            "100%|██████████| 3/3 [00:01<00:00,  2.15it/s]\n",
            "\n",
            " 60%|██████    | 3/5 [00:04<00:02,  1.37s/it]\u001b[A\n",
            "\n",
            "  0%|          | 0/3 [00:00<?, ?it/s]\u001b[A\u001b[A"
          ],
          "name": "stderr"
        },
        {
          "output_type": "stream",
          "text": [
            "accuracy:  0.8932573511277386 lr:  0.0001 C:  1000\n",
            "65.0% complete\n"
          ],
          "name": "stdout"
        },
        {
          "output_type": "stream",
          "text": [
            "\n",
            "\n",
            " 33%|███▎      | 1/3 [00:00<00:01,  1.95it/s]\u001b[A\u001b[A\n",
            "\n",
            " 67%|██████▋   | 2/3 [00:01<00:00,  1.96it/s]\u001b[A\u001b[A\n",
            "\n",
            "100%|██████████| 3/3 [00:01<00:00,  1.95it/s]\n",
            "\n",
            " 80%|████████  | 4/5 [00:05<00:01,  1.43s/it]\u001b[A\n",
            "\n",
            "  0%|          | 0/3 [00:00<?, ?it/s]\u001b[A\u001b[A"
          ],
          "name": "stderr"
        },
        {
          "output_type": "stream",
          "text": [
            "accuracy:  0.8871431372061557 lr:  0.0001 C:  0.1\n",
            "70.0% complete\n"
          ],
          "name": "stdout"
        },
        {
          "output_type": "stream",
          "text": [
            "\n",
            "\n",
            " 33%|███▎      | 1/3 [00:00<00:01,  1.79it/s]\u001b[A\u001b[A\n",
            "\n",
            " 67%|██████▋   | 2/3 [00:01<00:00,  1.79it/s]\u001b[A\u001b[A\n",
            "\n",
            "100%|██████████| 3/3 [00:01<00:00,  1.78it/s]\n",
            "\n",
            "100%|██████████| 5/5 [00:07<00:00,  1.48s/it]\n",
            " 75%|███████▌  | 3/4 [00:22<00:07,  7.47s/it]\n",
            "  0%|          | 0/5 [00:00<?, ?it/s]\u001b[A\n",
            "\n",
            "  0%|          | 0/3 [00:00<?, ?it/s]\u001b[A\u001b[A"
          ],
          "name": "stderr"
        },
        {
          "output_type": "stream",
          "text": [
            "accuracy:  0.88777164660156 lr:  0.0001 C:  0.01\n",
            "75.0% complete\n"
          ],
          "name": "stdout"
        },
        {
          "output_type": "stream",
          "text": [
            "\n",
            "\n",
            " 33%|███▎      | 1/3 [00:00<00:00,  2.27it/s]\u001b[A\u001b[A\n",
            "\n",
            " 67%|██████▋   | 2/3 [00:00<00:00,  2.24it/s]\u001b[A\u001b[A\n",
            "\n",
            "100%|██████████| 3/3 [00:01<00:00,  2.22it/s]\n",
            "\n",
            " 20%|██        | 1/5 [00:01<00:05,  1.36s/it]\u001b[A\n",
            "\n",
            "  0%|          | 0/3 [00:00<?, ?it/s]\u001b[A\u001b[A"
          ],
          "name": "stderr"
        },
        {
          "output_type": "stream",
          "text": [
            "accuracy:  0.8927430654100945 lr:  0.0001 C:  100000\n",
            "80.0% complete\n"
          ],
          "name": "stdout"
        },
        {
          "output_type": "stream",
          "text": [
            "\n",
            "\n",
            " 33%|███▎      | 1/3 [00:00<00:00,  2.23it/s]\u001b[A\u001b[A\n",
            "\n",
            " 67%|██████▋   | 2/3 [00:00<00:00,  2.18it/s]\u001b[A\u001b[A\n",
            "\n",
            "100%|██████████| 3/3 [00:01<00:00,  2.16it/s]\n",
            "\n",
            " 40%|████      | 2/5 [00:02<00:04,  1.37s/it]\u001b[A\n",
            "\n",
            "  0%|          | 0/3 [00:00<?, ?it/s]\u001b[A\u001b[A"
          ],
          "name": "stderr"
        },
        {
          "output_type": "stream",
          "text": [
            "accuracy:  0.8911429347948635 lr:  0.0001 C:  10000\n",
            "85.0% complete\n"
          ],
          "name": "stdout"
        },
        {
          "output_type": "stream",
          "text": [
            "\n",
            "\n",
            " 33%|███▎      | 1/3 [00:00<00:00,  2.12it/s]\u001b[A\u001b[A\n",
            "\n",
            " 67%|██████▋   | 2/3 [00:00<00:00,  2.12it/s]\u001b[A\u001b[A\n",
            "\n",
            "100%|██████████| 3/3 [00:01<00:00,  2.07it/s]\n",
            "\n",
            " 60%|██████    | 3/5 [00:04<00:02,  1.40s/it]\u001b[A\n",
            "\n",
            "  0%|          | 0/3 [00:00<?, ?it/s]\u001b[A\u001b[A"
          ],
          "name": "stderr"
        },
        {
          "output_type": "stream",
          "text": [
            "accuracy:  0.8947429837951658 lr:  0.0001 C:  1000\n",
            "90.0% complete\n"
          ],
          "name": "stdout"
        },
        {
          "output_type": "stream",
          "text": [
            "\n",
            "\n",
            " 33%|███▎      | 1/3 [00:00<00:00,  2.03it/s]\u001b[A\u001b[A\n",
            "\n",
            " 67%|██████▋   | 2/3 [00:00<00:00,  2.03it/s]\u001b[A\u001b[A\n",
            "\n",
            "100%|██████████| 3/3 [00:01<00:00,  1.98it/s]\n",
            "\n",
            " 80%|████████  | 4/5 [00:05<00:01,  1.44s/it]\u001b[A\n",
            "\n",
            "  0%|          | 0/3 [00:00<?, ?it/s]\u001b[A\u001b[A"
          ],
          "name": "stderr"
        },
        {
          "output_type": "stream",
          "text": [
            "accuracy:  0.887257390269992 lr:  0.0001 C:  0.1\n",
            "95.0% complete\n"
          ],
          "name": "stdout"
        },
        {
          "output_type": "stream",
          "text": [
            "\n",
            "\n",
            " 33%|███▎      | 1/3 [00:00<00:01,  1.80it/s]\u001b[A\u001b[A\n",
            "\n",
            " 67%|██████▋   | 2/3 [00:01<00:00,  1.80it/s]\u001b[A\u001b[A\n",
            "\n",
            "100%|██████████| 3/3 [00:01<00:00,  1.80it/s]\n",
            "\n",
            "100%|██████████| 5/5 [00:07<00:00,  1.48s/it]\n",
            "100%|██████████| 4/4 [00:29<00:00,  7.46s/it]"
          ],
          "name": "stderr"
        },
        {
          "output_type": "stream",
          "text": [
            "accuracy:  0.88708599108352 lr:  0.0001 C:  0.01\n",
            "100.0% complete\n",
            "dict_items([((1, 100000), 0.8877715780340493), ((1, 10000), 0.8872002441473565), ((1, 1000), 0.887714451502131), ((1, 0.1), 0.8874287110935944), ((1, 0.01), 0.8870859519020854), ((0.01, 100000), 0.888171669460009), ((0.01, 10000), 0.8878858800746791), ((0.01, 1000), 0.8883430098743289), ((0.01, 0.1), 0.8878288417009891), ((0.01, 0.01), 0.8873716629245458), ((0.0001, 100000), 0.8927430654100945), ((0.0001, 10000), 0.8911429347948635), ((0.0001, 1000), 0.8947429837951658), ((0.0001, 0.1), 0.887257390269992), ((0.0001, 0.01), 0.88708599108352)])\n",
            "dict_items([((1, 100000), 0.0018965804852136825), ((1, 10000), 0.003028456901767259), ((1, 1000), 0.0021092087159003234), ((1, 0.1), 0.0017409743573305186), ((1, 0.01), 0.0029411854405172275), ((0.01, 100000), 0.002993961903065139), ((0.01, 10000), 0.002052727291628621), ((0.01, 1000), 0.0023109083273435624), ((0.01, 0.1), 0.003345182793206244), ((0.01, 0.01), 0.002903348227762886), ((0.0001, 100000), 0.0026111646141058218), ((0.0001, 10000), 0.0019351654423583108), ((0.0001, 1000), 0.0015812448546237198), ((0.0001, 0.1), 0.00306477613522584), ((0.0001, 0.01), 0.0034259130922760393)])\n",
            "best lr:  0.0001 best C:  1000 cross-val accuracy:  0.8947429837951658\n"
          ],
          "name": "stdout"
        },
        {
          "output_type": "stream",
          "text": [
            "\n"
          ],
          "name": "stderr"
        }
      ]
    },
    {
      "cell_type": "markdown",
      "metadata": {
        "id": "wA23x_9CzugZ"
      },
      "source": [
        "## TF-IDF + misc data\n",
        "From this limited cross val I got:\n",
        "\n",
        "best lr:  0.0001 best C:  1000 cross-val accuracy:  0.790914307204743\n",
        "\n",
        "However, it's worth noting that for every other learning rate, lower C's worked better. I'm going to hand test a few other values exploring this.\n",
        "\n",
        "lr: 0.0001; C = 0.01: acc: 0.782514285714285.  \n",
        "lr: 0.0001; C = 10000: acc: 0.8330285714285715.   \n",
        "lr: 0.0001; C = 100000 acc: 0.84.    \n",
        "lr: 0.00001; C = 100000; accc: 0.89.    \n",
        "\n",
        "Seems that smaller learning rates and bigger C's do pretty well. Let's try cross val with a slightly different range.\n",
        " \n"
      ]
    },
    {
      "cell_type": "markdown",
      "metadata": {
        "id": "59aaPANWODYs"
      },
      "source": [
        "## Feat Vec Data\n",
        "\n",
        "best lr:  0.0001 best C:  1000 cross-val accuracy:  0.8947429837951658"
      ]
    },
    {
      "cell_type": "code",
      "metadata": {
        "colab": {
          "base_uri": "https://localhost:8080/"
        },
        "id": "f_0mhxsW8V7K",
        "outputId": "7ed9f2f3-4df4-41c0-9fd8-ba7d89a2382b"
      },
      "source": [
        "# cross validate svm\n",
        "\n",
        "epochs = 4\n",
        "# learning_rates = [10**0, 10**-1, 10**-2, 10**-3, 10**-4]\n",
        "learning_rates = [10**-4, 10**-5, 10**-6]\n",
        "# regularizations = [10**3, 10**2, 10**1, 10**0, 10**-1, 10**-2]\n",
        "regularizations = [10**5, 10**4, 10**3]\n",
        "\n",
        "best_vals = cross_validate(epochs,folds,learning_rates,regularizations,verbose=True)"
      ],
      "execution_count": null,
      "outputs": [
        {
          "output_type": "stream",
          "text": [
            "  0%|          | 0/3 [00:00<?, ?it/s]\n",
            "  0%|          | 0/3 [00:00<?, ?it/s]\u001b[A\n",
            "\n",
            "  0%|          | 0/3 [00:00<?, ?it/s]\u001b[A\u001b[A\n",
            "\n",
            " 33%|███▎      | 1/3 [00:47<01:34, 47.33s/it]\u001b[A\u001b[A\n",
            "\n",
            " 67%|██████▋   | 2/3 [01:32<00:46, 46.70s/it]\u001b[A\u001b[A\n",
            "\n",
            "100%|██████████| 3/3 [02:17<00:00, 45.71s/it]\n",
            "\n",
            " 33%|███▎      | 1/3 [02:17<04:34, 137.14s/it]\u001b[A\n",
            "\n",
            "  0%|          | 0/3 [00:00<?, ?it/s]\u001b[A\u001b[A"
          ],
          "name": "stderr"
        },
        {
          "output_type": "stream",
          "text": [
            "accuracy:  0.7905702060490923 lr:  0.0001 C:  100000\n",
            "11.11% complete\n"
          ],
          "name": "stdout"
        },
        {
          "output_type": "stream",
          "text": [
            "\n",
            "\n",
            " 33%|███▎      | 1/3 [00:46<01:33, 46.94s/it]\u001b[A\u001b[A\n",
            "\n",
            " 67%|██████▋   | 2/3 [01:32<00:46, 46.56s/it]\u001b[A\u001b[A\n",
            "\n",
            "100%|██████████| 3/3 [02:18<00:00, 46.04s/it]\n",
            "\n",
            " 67%|██████▋   | 2/3 [04:35<02:17, 137.43s/it]\u001b[A\n",
            "\n",
            "  0%|          | 0/3 [00:00<?, ?it/s]\u001b[A\u001b[A"
          ],
          "name": "stderr"
        },
        {
          "output_type": "stream",
          "text": [
            "accuracy:  0.8006281881076392 lr:  0.0001 C:  10000\n",
            "22.22% complete\n"
          ],
          "name": "stdout"
        },
        {
          "output_type": "stream",
          "text": [
            "\n",
            "\n",
            " 33%|███▎      | 1/3 [00:48<01:36, 48.11s/it]\u001b[A\u001b[A\n",
            "\n",
            " 67%|██████▋   | 2/3 [01:34<00:47, 47.67s/it]\u001b[A\u001b[A\n",
            "\n",
            "100%|██████████| 3/3 [02:21<00:00, 47.06s/it]\n",
            "\n",
            "100%|██████████| 3/3 [06:56<00:00, 138.82s/it]\n",
            " 33%|███▎      | 1/3 [06:56<13:52, 416.48s/it]\n",
            "  0%|          | 0/3 [00:00<?, ?it/s]\u001b[A\n",
            "\n",
            "  0%|          | 0/3 [00:00<?, ?it/s]\u001b[A\u001b[A"
          ],
          "name": "stderr"
        },
        {
          "output_type": "stream",
          "text": [
            "accuracy:  0.7946287072224686 lr:  0.0001 C:  1000\n",
            "33.33% complete\n"
          ],
          "name": "stdout"
        },
        {
          "output_type": "stream",
          "text": [
            "\n",
            "\n",
            " 33%|███▎      | 1/3 [00:46<01:32, 46.30s/it]\u001b[A\u001b[A\n",
            "\n",
            " 67%|██████▋   | 2/3 [01:31<00:45, 45.91s/it]\u001b[A\u001b[A\n",
            "\n",
            "100%|██████████| 3/3 [02:16<00:00, 45.53s/it]\n",
            "\n",
            " 33%|███▎      | 1/3 [02:16<04:33, 136.60s/it]\u001b[A\n",
            "\n",
            "  0%|          | 0/3 [00:00<?, ?it/s]\u001b[A\u001b[A"
          ],
          "name": "stderr"
        },
        {
          "output_type": "stream",
          "text": [
            "accuracy:  0.8166283971797753 lr:  1e-05 C:  100000\n",
            "44.44% complete\n"
          ],
          "name": "stdout"
        },
        {
          "output_type": "stream",
          "text": [
            "\n",
            "\n",
            " 33%|███▎      | 1/3 [00:47<01:35, 47.84s/it]\u001b[A\u001b[A\n",
            "\n",
            " 67%|██████▋   | 2/3 [01:33<00:47, 47.23s/it]\u001b[A\u001b[A\n",
            "\n",
            "100%|██████████| 3/3 [02:19<00:00, 46.50s/it]\n",
            "\n",
            " 67%|██████▋   | 2/3 [04:36<02:17, 137.48s/it]\u001b[A\n",
            "\n",
            "  0%|          | 0/3 [00:00<?, ?it/s]\u001b[A\u001b[A"
          ],
          "name": "stderr"
        },
        {
          "output_type": "stream",
          "text": [
            "accuracy:  0.8113712869394974 lr:  1e-05 C:  10000\n",
            "55.56% complete\n"
          ],
          "name": "stdout"
        },
        {
          "output_type": "stream",
          "text": [
            "\n",
            "\n",
            " 33%|███▎      | 1/3 [00:48<01:36, 48.16s/it]\u001b[A\u001b[A\n",
            "\n",
            " 67%|██████▋   | 2/3 [01:33<00:47, 47.45s/it]\u001b[A\u001b[A\n",
            "\n",
            "100%|██████████| 3/3 [02:20<00:00, 46.80s/it]\n",
            "\n",
            "100%|██████████| 3/3 [06:56<00:00, 138.85s/it]\n",
            " 67%|██████▋   | 2/3 [13:53<06:56, 416.50s/it]\n",
            "  0%|          | 0/3 [00:00<?, ?it/s]\u001b[A\n",
            "\n",
            "  0%|          | 0/3 [00:00<?, ?it/s]\u001b[A\u001b[A"
          ],
          "name": "stderr"
        },
        {
          "output_type": "stream",
          "text": [
            "accuracy:  0.7854857585965586 lr:  1e-05 C:  1000\n",
            "66.67% complete\n"
          ],
          "name": "stdout"
        },
        {
          "output_type": "stream",
          "text": [
            "\n",
            "\n",
            " 33%|███▎      | 1/3 [00:49<01:38, 49.28s/it]\u001b[A\u001b[A\n",
            "\n",
            " 67%|██████▋   | 2/3 [01:35<00:48, 48.29s/it]\u001b[A\u001b[A\n",
            "\n",
            "100%|██████████| 3/3 [02:21<00:00, 47.02s/it]\n",
            "\n",
            " 33%|███▎      | 1/3 [02:21<04:42, 141.06s/it]\u001b[A\n",
            "\n",
            "  0%|          | 0/3 [00:00<?, ?it/s]\u001b[A\u001b[A"
          ],
          "name": "stderr"
        },
        {
          "output_type": "stream",
          "text": [
            "accuracy:  0.8142856804217599 lr:  1e-06 C:  100000\n",
            "77.78% complete\n"
          ],
          "name": "stdout"
        },
        {
          "output_type": "stream",
          "text": [
            "\n",
            "\n",
            " 33%|███▎      | 1/3 [00:48<01:37, 48.95s/it]\u001b[A\u001b[A\n",
            "\n",
            " 67%|██████▋   | 2/3 [01:34<00:48, 48.07s/it]\u001b[A\u001b[A\n",
            "\n",
            "100%|██████████| 3/3 [02:21<00:00, 47.09s/it]\n",
            "\n",
            " 67%|██████▋   | 2/3 [04:42<02:21, 141.13s/it]\u001b[A\n",
            "\n",
            "  0%|          | 0/3 [00:00<?, ?it/s]\u001b[A\u001b[A"
          ],
          "name": "stderr"
        },
        {
          "output_type": "stream",
          "text": [
            "accuracy:  0.7851428818607452 lr:  1e-06 C:  10000\n",
            "88.89% complete\n"
          ],
          "name": "stdout"
        },
        {
          "output_type": "stream",
          "text": [
            "\n",
            "\n",
            " 33%|███▎      | 1/3 [00:49<01:39, 49.89s/it]\u001b[A\u001b[A\n",
            "\n",
            " 67%|██████▋   | 2/3 [01:36<00:48, 48.98s/it]\u001b[A\u001b[A\n",
            "\n",
            "100%|██████████| 3/3 [02:23<00:00, 47.86s/it]\n",
            "\n",
            "100%|██████████| 3/3 [07:05<00:00, 141.98s/it]\n",
            "100%|██████████| 3/3 [20:58<00:00, 419.66s/it]"
          ],
          "name": "stderr"
        },
        {
          "output_type": "stream",
          "text": [
            "accuracy:  0.7813142875513353 lr:  1e-06 C:  1000\n",
            "100.0% complete\n",
            "dict_items([((0.0001, 100000), 0.7905702060490923), ((0.0001, 10000), 0.8006281881076392), ((0.0001, 1000), 0.7946287072224686), ((1e-05, 100000), 0.8166283971797753), ((1e-05, 10000), 0.8113712869394974), ((1e-05, 1000), 0.7854857585965586), ((1e-06, 100000), 0.8142856804217599), ((1e-06, 10000), 0.7851428818607452), ((1e-06, 1000), 0.7813142875513353)])\n",
            "dict_items([((0.0001, 100000), 0.016974295624119985), ((0.0001, 10000), 0.01564417849186136), ((0.0001, 1000), 0.005711935916112951), ((1e-05, 100000), 0.008197467218562479), ((1e-05, 10000), 0.002681656451041084), ((1e-05, 1000), 0.0012468657853124219), ((1e-06, 100000), 0.0010656962430592408), ((1e-06, 10000), 0.0006380130153082933), ((1e-06, 1000), 0.0006303148400841053)])\n",
            "best lr:  1e-05 best C:  100000 cross-val accuracy:  0.8166283971797753\n"
          ],
          "name": "stdout"
        },
        {
          "output_type": "stream",
          "text": [
            "\n"
          ],
          "name": "stderr"
        }
      ]
    },
    {
      "cell_type": "markdown",
      "metadata": {
        "id": "qudjoofWFiat"
      },
      "source": [
        "Ok, this second cross validation yielded:\n",
        "\n",
        "best lr:  1e-05 best C:  100000 cross-val accuracy:  0.8166283971797753.   \n",
        "\n",
        "So, let's train with these params."
      ]
    },
    {
      "cell_type": "code",
      "metadata": {
        "colab": {
          "base_uri": "https://localhost:8080/",
          "height": 953
        },
        "id": "JUC8Wh5ueOxO",
        "outputId": "38836b0a-ba9f-44f7-9dc4-5ff0dbb847d4"
      },
      "source": [
        "# TF-IDF + misc data\n",
        "# learning_rate = 0.00001\n",
        "# C = 100000\n",
        "\n",
        "# Feat vec data\n",
        "learning_rate = 0.0001\n",
        "C = 1000\n",
        "#best lr:  0.0001 best C:  1000 cross-val accuracy:  0.8947429837951658\n",
        "\n",
        "epochs = 15\n",
        "svm = SVM()\n",
        "%time svm.train(train_data,epochs,learning_rate,C)\n",
        "\n",
        "# test set accuracy\n",
        "# Get the best weights and bias from this training\n",
        "W,best_epoch = svm.get_best_weights_and_bias()\n",
        "# training set accuracy:\n",
        "print(\"best training set accuracy: \", svm.accuracies[best_epoch] )\n",
        "# Use these weights and bias to evaluate on the test set\n",
        "test_accuracy = svm.get_accuracy_own_weights(test_data,W)\n",
        "print(\"final test accuracy: \",test_accuracy)\n",
        "\n",
        "y = list(svm.accuracies.values())\n",
        "x = [i for i in range(epochs)]\n",
        "title = 'SVM training learning curve'\n",
        "plot_learning(x,y,title,'epochs','training accuracy')\n",
        "\n",
        "y = list(svm.loss.values())\n",
        "x = [i for i in range(epochs)]\n",
        "title = 'SVM training loss'\n",
        "plot_learning(x,y,title,'epochs','loss')\n"
      ],
      "execution_count": null,
      "outputs": [
        {
          "output_type": "stream",
          "text": [
            "CPU times: user 2.47 s, sys: 1.41 s, total: 3.88 s\n",
            "Wall time: 2.19 s\n",
            "best training set accuracy:  0.9001714285714286\n",
            "final test accuracy:  0.8342222222222222\n"
          ],
          "name": "stdout"
        },
        {
          "output_type": "display_data",
          "data": {
            "image/png": "[encoded data removed]",
            "text/plain": [
              "<Figure size 1100x450 with 1 Axes>"
            ]
          },
          "metadata": {
            "tags": []
          }
        },
        {
          "output_type": "display_data",
          "data": {
            "image/png": "[encoded data removed]",
            "text/plain": [
              "<Figure size 1100x450 with 1 Axes>"
            ]
          },
          "metadata": {
            "tags": []
          }
        }
      ]
    },
    {
      "cell_type": "markdown",
      "metadata": {
        "id": "h7qhfa_tGCHX"
      },
      "source": [
        "I wonder if using any of the other datasets would perform better? Let's try a few."
      ]
    },
    {
      "cell_type": "code",
      "metadata": {
        "id": "c5J3GKl6GG_E"
      },
      "source": [
        "\n",
        "# Misc\n",
        "misc_train_data = Data(TRAINING_PATH)\n",
        "misc_test_data = Data(TESTING_PATH)"
      ],
      "execution_count": null,
      "outputs": []
    },
    {
      "cell_type": "code",
      "metadata": {
        "colab": {
          "base_uri": "https://localhost:8080/",
          "height": 953
        },
        "id": "O-Zclhq_GSPH",
        "outputId": "38f8fd12-22d7-4e12-ad57-ff6dcf2589ae"
      },
      "source": [
        "learning_rate = 0.001\n",
        "C = 100\n",
        "\n",
        "epochs = 15\n",
        "svm = SVM()\n",
        "%time svm.train(misc_train_data,epochs,learning_rate,C)\n",
        "\n",
        "# test set accuracy\n",
        "# Get the best weights and bias from this training\n",
        "W_misc,best_epoch_misc = svm.get_best_weights_and_bias()\n",
        "# training set accuracy:\n",
        "print(\"best training set accuracy: \", svm.accuracies[best_epoch_misc] )\n",
        "# Use these weights and bias to evaluate on the test set\n",
        "test_accuracy = svm.get_accuracy_own_weights(misc_test_data,W_misc)\n",
        "print(\"final test accuracy: \",test_accuracy)\n",
        "\n",
        "y = list(svm.accuracies.values())\n",
        "x = [i for i in range(epochs)]\n",
        "title = 'SVM training learning curve'\n",
        "plot_learning(x,y,title,'epochs','training accuracy')\n",
        "\n",
        "y = list(svm.loss.values())\n",
        "x = [i for i in range(epochs)]\n",
        "title = 'SVM training loss'\n",
        "plot_learning(x,y,title,'epochs','loss')\n"
      ],
      "execution_count": null,
      "outputs": [
        {
          "output_type": "stream",
          "text": [
            "CPU times: user 2.71 s, sys: 1.4 s, total: 4.11 s\n",
            "Wall time: 2.42 s\n",
            "best training set accuracy:  0.7813142857142857\n",
            "final test accuracy:  0.7902222222222223\n"
          ],
          "name": "stdout"
        },
        {
          "output_type": "display_data",
          "data": {
            "image/png": "[encoded data removed]",
            "text/plain": [
              "<Figure size 1100x450 with 1 Axes>"
            ]
          },
          "metadata": {
            "tags": []
          }
        },
        {
          "output_type": "display_data",
          "data": {
            "image/png": "[encoded data removed]",
            "text/plain": [
              "<Figure size 1100x450 with 1 Axes>"
            ]
          },
          "metadata": {
            "tags": []
          }
        }
      ]
    },
    {
      "cell_type": "markdown",
      "metadata": {
        "id": "bbRmYwIDMzaI"
      },
      "source": [
        "Misc data actually looks kind of good... let's run some cross val on it?"
      ]
    },
    {
      "cell_type": "code",
      "metadata": {
        "colab": {
          "base_uri": "https://localhost:8080/"
        },
        "id": "ycroM6VNNAQ8",
        "outputId": "20d1d4dd-08d8-4423-8055-1990bfea60bd"
      },
      "source": [
        "# Validation splits - split training data into k splits\n",
        "\n",
        "k = 4\n",
        "folds = np.array_split(misc_train_data.raw_data,k)\n",
        "\n",
        "# cross validate svm\n",
        "\n",
        "epochs = 10\n",
        "# learning_rates = [10**0, 10**-1, 10**-2, 10**-3, 10**-4]\n",
        "learning_rates = [10**1, 10**0, 10**-2, 10**-4, 10**-5]\n",
        "# regularizations = [10**3, 10**2, 10**1, 10**0, 10**-1, 10**-2]\n",
        "regularizations = [10**5, 10**4, 10**3, 10**1, 10**-1, 10**-2]\n",
        "\n",
        "best_vals_misc = cross_validate(epochs,folds,learning_rates,regularizations,verbose=True)"
      ],
      "execution_count": null,
      "outputs": [
        {
          "output_type": "stream",
          "text": [
            "  0%|          | 0/5 [00:00<?, ?it/s]\n",
            "  0%|          | 0/6 [00:00<?, ?it/s]\u001b[A\n",
            "\n",
            "  0%|          | 0/4 [00:00<?, ?it/s]\u001b[A\u001b[A/usr/local/lib/python3.6/dist-packages/ipykernel_launcher.py:35: RuntimeWarning: overflow encountered in multiply\n",
            "/usr/local/lib/python3.6/dist-packages/ipykernel_launcher.py:71: RuntimeWarning: invalid value encountered in less\n",
            "/usr/local/lib/python3.6/dist-packages/ipykernel_launcher.py:35: RuntimeWarning: invalid value encountered in multiply\n",
            "\n",
            "\n",
            " 25%|██▌       | 1/4 [00:01<00:03,  1.17s/it]\u001b[A\u001b[A\n",
            "\n",
            " 50%|█████     | 2/4 [00:02<00:02,  1.17s/it]\u001b[A\u001b[A/usr/local/lib/python3.6/dist-packages/ipykernel_launcher.py:33: RuntimeWarning: overflow encountered in multiply\n",
            "\n",
            "\n",
            " 75%|███████▌  | 3/4 [00:03<00:01,  1.18s/it]\u001b[A\u001b[A\n",
            "\n",
            "100%|██████████| 4/4 [00:04<00:00,  1.19s/it]\n",
            "\n",
            " 17%|█▋        | 1/6 [00:04<00:23,  4.75s/it]\u001b[A\n",
            "\n",
            "  0%|          | 0/4 [00:00<?, ?it/s]\u001b[A\u001b[A"
          ],
          "name": "stderr"
        },
        {
          "output_type": "stream",
          "text": [
            "accuracy:  0.0 lr:  10 C:  100000\n",
            "3.333% complete\n"
          ],
          "name": "stdout"
        },
        {
          "output_type": "stream",
          "text": [
            "\n",
            "\n",
            " 25%|██▌       | 1/4 [00:01<00:03,  1.20s/it]\u001b[A\u001b[A\n",
            "\n",
            " 50%|█████     | 2/4 [00:02<00:02,  1.19s/it]\u001b[A\u001b[A\n",
            "\n",
            " 75%|███████▌  | 3/4 [00:03<00:01,  1.19s/it]\u001b[A\u001b[A\n",
            "\n",
            "100%|██████████| 4/4 [00:04<00:00,  1.19s/it]\n",
            "\n",
            " 33%|███▎      | 2/6 [00:09<00:19,  4.77s/it]\u001b[A\n",
            "\n",
            "  0%|          | 0/4 [00:00<?, ?it/s]\u001b[A\u001b[A"
          ],
          "name": "stderr"
        },
        {
          "output_type": "stream",
          "text": [
            "accuracy:  0.0 lr:  10 C:  10000\n",
            "6.667% complete\n"
          ],
          "name": "stdout"
        },
        {
          "output_type": "stream",
          "text": [
            "\n",
            "\n",
            " 25%|██▌       | 1/4 [00:01<00:03,  1.20s/it]\u001b[A\u001b[A\n",
            "\n",
            " 50%|█████     | 2/4 [00:02<00:02,  1.20s/it]\u001b[A\u001b[A\n",
            "\n",
            " 75%|███████▌  | 3/4 [00:03<00:01,  1.19s/it]\u001b[A\u001b[A\n",
            "\n",
            "100%|██████████| 4/4 [00:04<00:00,  1.19s/it]\n",
            "\n",
            " 50%|█████     | 3/6 [00:14<00:14,  4.77s/it]\u001b[A\n",
            "\n",
            "  0%|          | 0/4 [00:00<?, ?it/s]\u001b[A\u001b[A"
          ],
          "name": "stderr"
        },
        {
          "output_type": "stream",
          "text": [
            "accuracy:  0.0 lr:  10 C:  1000\n",
            "10.0% complete\n"
          ],
          "name": "stdout"
        },
        {
          "output_type": "stream",
          "text": [
            "\n",
            "\n",
            " 25%|██▌       | 1/4 [00:01<00:03,  1.20s/it]\u001b[A\u001b[A\n",
            "\n",
            " 50%|█████     | 2/4 [00:02<00:02,  1.20s/it]\u001b[A\u001b[A\n",
            "\n",
            " 75%|███████▌  | 3/4 [00:03<00:01,  1.20s/it]\u001b[A\u001b[A\n",
            "\n",
            "100%|██████████| 4/4 [00:04<00:00,  1.20s/it]\n",
            "\n",
            " 67%|██████▋   | 4/6 [00:19<00:09,  4.79s/it]\u001b[A\n",
            "\n",
            "  0%|          | 0/4 [00:00<?, ?it/s]\u001b[A\u001b[A"
          ],
          "name": "stderr"
        },
        {
          "output_type": "stream",
          "text": [
            "accuracy:  0.0 lr:  10 C:  10\n",
            "13.33% complete\n"
          ],
          "name": "stdout"
        },
        {
          "output_type": "stream",
          "text": [
            "\n",
            "\n",
            " 25%|██▌       | 1/4 [00:01<00:03,  1.21s/it]\u001b[A\u001b[A\n",
            "\n",
            " 50%|█████     | 2/4 [00:02<00:02,  1.20s/it]\u001b[A\u001b[A\n",
            "\n",
            " 75%|███████▌  | 3/4 [00:03<00:01,  1.25s/it]\u001b[A\u001b[A\n",
            "\n",
            "100%|██████████| 4/4 [00:05<00:00,  1.26s/it]\n",
            "\n",
            " 83%|████████▎ | 5/6 [00:24<00:04,  4.87s/it]\u001b[A\n",
            "\n",
            "  0%|          | 0/4 [00:00<?, ?it/s]\u001b[A\u001b[A"
          ],
          "name": "stderr"
        },
        {
          "output_type": "stream",
          "text": [
            "accuracy:  0.0 lr:  10 C:  0.1\n",
            "16.67% complete\n"
          ],
          "name": "stdout"
        },
        {
          "output_type": "stream",
          "text": [
            "\n",
            "\n",
            " 25%|██▌       | 1/4 [00:01<00:03,  1.20s/it]\u001b[A\u001b[A\n",
            "\n",
            " 50%|█████     | 2/4 [00:02<00:02,  1.20s/it]\u001b[A\u001b[A\n",
            "\n",
            " 75%|███████▌  | 3/4 [00:03<00:01,  1.19s/it]\u001b[A\u001b[A\n",
            "\n",
            "100%|██████████| 4/4 [00:04<00:00,  1.19s/it]\n",
            "\n",
            "100%|██████████| 6/6 [00:28<00:00,  4.83s/it]\n",
            " 20%|██        | 1/5 [00:29<01:56, 29.01s/it]\n",
            "  0%|          | 0/6 [00:00<?, ?it/s]\u001b[A\n",
            "\n",
            "  0%|          | 0/4 [00:00<?, ?it/s]\u001b[A\u001b[A"
          ],
          "name": "stderr"
        },
        {
          "output_type": "stream",
          "text": [
            "accuracy:  0.0 lr:  10 C:  0.01\n",
            "20.0% complete\n"
          ],
          "name": "stdout"
        },
        {
          "output_type": "stream",
          "text": [
            "\n",
            "\n",
            " 25%|██▌       | 1/4 [00:01<00:04,  1.43s/it]\u001b[A\u001b[A\n",
            "\n",
            " 50%|█████     | 2/4 [00:02<00:02,  1.43s/it]\u001b[A\u001b[A\n",
            "\n",
            " 75%|███████▌  | 3/4 [00:04<00:01,  1.43s/it]\u001b[A\u001b[A\n",
            "\n",
            "100%|██████████| 4/4 [00:05<00:00,  1.43s/it]\n",
            "\n",
            " 17%|█▋        | 1/6 [00:05<00:28,  5.75s/it]\u001b[A\n",
            "\n",
            "  0%|          | 0/4 [00:00<?, ?it/s]\u001b[A\u001b[A"
          ],
          "name": "stderr"
        },
        {
          "output_type": "stream",
          "text": [
            "accuracy:  0.6416571428571429 lr:  1 C:  100000\n",
            "23.33% complete\n"
          ],
          "name": "stdout"
        },
        {
          "output_type": "stream",
          "text": [
            "\n",
            "\n",
            " 25%|██▌       | 1/4 [00:01<00:04,  1.45s/it]\u001b[A\u001b[A\n",
            "\n",
            " 50%|█████     | 2/4 [00:02<00:02,  1.44s/it]\u001b[A\u001b[A\n",
            "\n",
            " 75%|███████▌  | 3/4 [00:04<00:01,  1.44s/it]\u001b[A\u001b[A\n",
            "\n",
            "100%|██████████| 4/4 [00:05<00:00,  1.44s/it]\n",
            "\n",
            " 33%|███▎      | 2/6 [00:11<00:23,  5.76s/it]\u001b[A\n",
            "\n",
            "  0%|          | 0/4 [00:00<?, ?it/s]\u001b[A\u001b[A"
          ],
          "name": "stderr"
        },
        {
          "output_type": "stream",
          "text": [
            "accuracy:  0.7134285714285714 lr:  1 C:  10000\n",
            "26.67% complete\n"
          ],
          "name": "stdout"
        },
        {
          "output_type": "stream",
          "text": [
            "\n",
            "\n",
            " 25%|██▌       | 1/4 [00:01<00:04,  1.44s/it]\u001b[A\u001b[A\n",
            "\n",
            " 50%|█████     | 2/4 [00:02<00:02,  1.44s/it]\u001b[A\u001b[A\n",
            "\n",
            " 75%|███████▌  | 3/4 [00:04<00:01,  1.44s/it]\u001b[A\u001b[A\n",
            "\n",
            "100%|██████████| 4/4 [00:05<00:00,  1.44s/it]\n",
            "\n",
            " 50%|█████     | 3/6 [00:17<00:17,  5.76s/it]\u001b[A\n",
            "\n",
            "  0%|          | 0/4 [00:00<?, ?it/s]\u001b[A\u001b[A"
          ],
          "name": "stderr"
        },
        {
          "output_type": "stream",
          "text": [
            "accuracy:  0.6484571428571428 lr:  1 C:  1000\n",
            "30.0% complete\n"
          ],
          "name": "stdout"
        },
        {
          "output_type": "stream",
          "text": [
            "\n",
            "\n",
            " 25%|██▌       | 1/4 [00:01<00:04,  1.45s/it]\u001b[A\u001b[A\n",
            "\n",
            " 50%|█████     | 2/4 [00:02<00:02,  1.47s/it]\u001b[A\u001b[A\n",
            "\n",
            " 75%|███████▌  | 3/4 [00:04<00:01,  1.47s/it]\u001b[A\u001b[A\n",
            "\n",
            "100%|██████████| 4/4 [00:05<00:00,  1.47s/it]\n",
            "\n",
            " 67%|██████▋   | 4/6 [00:23<00:11,  5.80s/it]\u001b[A\n",
            "\n",
            "  0%|          | 0/4 [00:00<?, ?it/s]\u001b[A\u001b[A"
          ],
          "name": "stderr"
        },
        {
          "output_type": "stream",
          "text": [
            "accuracy:  0.6509714285714285 lr:  1 C:  10\n",
            "33.33% complete\n"
          ],
          "name": "stdout"
        },
        {
          "output_type": "stream",
          "text": [
            "\n",
            "\n",
            " 25%|██▌       | 1/4 [00:01<00:04,  1.61s/it]\u001b[A\u001b[A\n",
            "\n",
            " 50%|█████     | 2/4 [00:03<00:03,  1.61s/it]\u001b[A\u001b[A\n",
            "\n",
            " 75%|███████▌  | 3/4 [00:04<00:01,  1.62s/it]\u001b[A\u001b[A\n",
            "\n",
            "100%|██████████| 4/4 [00:06<00:00,  1.62s/it]\n",
            "\n",
            " 83%|████████▎ | 5/6 [00:29<00:06,  6.01s/it]\u001b[A\n",
            "\n",
            "  0%|          | 0/4 [00:00<?, ?it/s]\u001b[A\u001b[A"
          ],
          "name": "stderr"
        },
        {
          "output_type": "stream",
          "text": [
            "accuracy:  0.6352571428571429 lr:  1 C:  0.1\n",
            "36.67% complete\n"
          ],
          "name": "stdout"
        },
        {
          "output_type": "stream",
          "text": [
            "\n",
            "\n",
            " 25%|██▌       | 1/4 [00:01<00:04,  1.59s/it]\u001b[A\u001b[A\n",
            "\n",
            " 50%|█████     | 2/4 [00:03<00:03,  1.61s/it]\u001b[A\u001b[A\n",
            "\n",
            " 75%|███████▌  | 3/4 [00:04<00:01,  1.61s/it]\u001b[A\u001b[A\n",
            "\n",
            "100%|██████████| 4/4 [00:06<00:00,  1.62s/it]\n",
            "\n",
            "100%|██████████| 6/6 [00:36<00:00,  6.03s/it]\n",
            " 40%|████      | 2/5 [01:05<01:33, 31.16s/it]\n",
            "  0%|          | 0/6 [00:00<?, ?it/s]\u001b[A\n",
            "\n",
            "  0%|          | 0/4 [00:00<?, ?it/s]\u001b[A\u001b[A"
          ],
          "name": "stderr"
        },
        {
          "output_type": "stream",
          "text": [
            "accuracy:  0.6634857142857143 lr:  1 C:  0.01\n",
            "40.0% complete\n"
          ],
          "name": "stdout"
        },
        {
          "output_type": "stream",
          "text": [
            "\n",
            "\n",
            " 25%|██▌       | 1/4 [00:01<00:04,  1.34s/it]\u001b[A\u001b[A\n",
            "\n",
            " 50%|█████     | 2/4 [00:02<00:02,  1.34s/it]\u001b[A\u001b[A\n",
            "\n",
            " 75%|███████▌  | 3/4 [00:03<00:01,  1.33s/it]\u001b[A\u001b[A\n",
            "\n",
            "100%|██████████| 4/4 [00:05<00:00,  1.33s/it]\n",
            "\n",
            " 17%|█▋        | 1/6 [00:05<00:26,  5.33s/it]\u001b[A\n",
            "\n",
            "  0%|          | 0/4 [00:00<?, ?it/s]\u001b[A\u001b[A"
          ],
          "name": "stderr"
        },
        {
          "output_type": "stream",
          "text": [
            "accuracy:  0.7639428571428571 lr:  0.01 C:  100000\n",
            "43.33% complete\n"
          ],
          "name": "stdout"
        },
        {
          "output_type": "stream",
          "text": [
            "\n",
            "\n",
            " 25%|██▌       | 1/4 [00:01<00:03,  1.32s/it]\u001b[A\u001b[A\n",
            "\n",
            " 50%|█████     | 2/4 [00:02<00:02,  1.33s/it]\u001b[A\u001b[A\n",
            "\n",
            " 75%|███████▌  | 3/4 [00:04<00:01,  1.33s/it]\u001b[A\u001b[A\n",
            "\n",
            "100%|██████████| 4/4 [00:05<00:00,  1.35s/it]\n",
            "\n",
            " 33%|███▎      | 2/6 [00:10<00:21,  5.35s/it]\u001b[A\n",
            "\n",
            "  0%|          | 0/4 [00:00<?, ?it/s]\u001b[A\u001b[A"
          ],
          "name": "stderr"
        },
        {
          "output_type": "stream",
          "text": [
            "accuracy:  0.761257142857143 lr:  0.01 C:  10000\n",
            "46.67% complete\n"
          ],
          "name": "stdout"
        },
        {
          "output_type": "stream",
          "text": [
            "\n",
            "\n",
            " 25%|██▌       | 1/4 [00:01<00:04,  1.35s/it]\u001b[A\u001b[A\n",
            "\n",
            " 50%|█████     | 2/4 [00:02<00:02,  1.35s/it]\u001b[A\u001b[A\n",
            "\n",
            " 75%|███████▌  | 3/4 [00:04<00:01,  1.36s/it]\u001b[A\u001b[A\n",
            "\n",
            "100%|██████████| 4/4 [00:05<00:00,  1.36s/it]\n",
            "\n",
            " 50%|█████     | 3/6 [00:16<00:16,  5.39s/it]\u001b[A\n",
            "\n",
            "  0%|          | 0/4 [00:00<?, ?it/s]\u001b[A\u001b[A"
          ],
          "name": "stderr"
        },
        {
          "output_type": "stream",
          "text": [
            "accuracy:  0.7685142857142857 lr:  0.01 C:  1000\n",
            "50.0% complete\n"
          ],
          "name": "stdout"
        },
        {
          "output_type": "stream",
          "text": [
            "\n",
            "\n",
            " 25%|██▌       | 1/4 [00:01<00:04,  1.48s/it]\u001b[A\u001b[A\n",
            "\n",
            " 50%|█████     | 2/4 [00:03<00:02,  1.49s/it]\u001b[A\u001b[A\n",
            "\n",
            " 75%|███████▌  | 3/4 [00:04<00:01,  1.50s/it]\u001b[A\u001b[A\n",
            "\n",
            "100%|██████████| 4/4 [00:06<00:00,  1.51s/it]\n",
            "\n",
            " 67%|██████▋   | 4/6 [00:22<00:11,  5.58s/it]\u001b[A\n",
            "\n",
            "  0%|          | 0/4 [00:00<?, ?it/s]\u001b[A\u001b[A"
          ],
          "name": "stderr"
        },
        {
          "output_type": "stream",
          "text": [
            "accuracy:  0.7816571428571428 lr:  0.01 C:  10\n",
            "53.33% complete\n"
          ],
          "name": "stdout"
        },
        {
          "output_type": "stream",
          "text": [
            "\n",
            "\n",
            " 25%|██▌       | 1/4 [00:01<00:04,  1.59s/it]\u001b[A\u001b[A\n",
            "\n",
            " 50%|█████     | 2/4 [00:03<00:03,  1.59s/it]\u001b[A\u001b[A\n",
            "\n",
            " 75%|███████▌  | 3/4 [00:04<00:01,  1.59s/it]\u001b[A\u001b[A\n",
            "\n",
            "100%|██████████| 4/4 [00:06<00:00,  1.59s/it]\n",
            "\n",
            " 83%|████████▎ | 5/6 [00:28<00:05,  5.82s/it]\u001b[A\n",
            "\n",
            "  0%|          | 0/4 [00:00<?, ?it/s]\u001b[A\u001b[A"
          ],
          "name": "stderr"
        },
        {
          "output_type": "stream",
          "text": [
            "accuracy:  0.7818285714285714 lr:  0.01 C:  0.1\n",
            "56.67% complete\n"
          ],
          "name": "stdout"
        },
        {
          "output_type": "stream",
          "text": [
            "\n",
            "\n",
            " 25%|██▌       | 1/4 [00:01<00:04,  1.58s/it]\u001b[A\u001b[A\n",
            "\n",
            " 50%|█████     | 2/4 [00:03<00:03,  1.58s/it]\u001b[A\u001b[A\n",
            "\n",
            " 75%|███████▌  | 3/4 [00:04<00:01,  1.58s/it]\u001b[A\u001b[A\n",
            "\n",
            "100%|██████████| 4/4 [00:06<00:00,  1.58s/it]\n",
            "\n",
            "100%|██████████| 6/6 [00:34<00:00,  5.83s/it]\n",
            " 60%|██████    | 3/5 [01:40<01:04, 32.30s/it]\n",
            "  0%|          | 0/6 [00:00<?, ?it/s]\u001b[A\n",
            "\n",
            "  0%|          | 0/4 [00:00<?, ?it/s]\u001b[A\u001b[A"
          ],
          "name": "stderr"
        },
        {
          "output_type": "stream",
          "text": [
            "accuracy:  0.7814857142857142 lr:  0.01 C:  0.01\n",
            "60.0% complete\n"
          ],
          "name": "stdout"
        },
        {
          "output_type": "stream",
          "text": [
            "\n",
            "\n",
            " 25%|██▌       | 1/4 [00:01<00:03,  1.32s/it]\u001b[A\u001b[A\n",
            "\n",
            " 50%|█████     | 2/4 [00:02<00:02,  1.32s/it]\u001b[A\u001b[A\n",
            "\n",
            " 75%|███████▌  | 3/4 [00:03<00:01,  1.32s/it]\u001b[A\u001b[A\n",
            "\n",
            "100%|██████████| 4/4 [00:05<00:00,  1.33s/it]\n",
            "\n",
            " 17%|█▋        | 1/6 [00:05<00:26,  5.31s/it]\u001b[A\n",
            "\n",
            "  0%|          | 0/4 [00:00<?, ?it/s]\u001b[A\u001b[A"
          ],
          "name": "stderr"
        },
        {
          "output_type": "stream",
          "text": [
            "accuracy:  0.7769142857142857 lr:  0.0001 C:  100000\n",
            "63.33% complete\n"
          ],
          "name": "stdout"
        },
        {
          "output_type": "stream",
          "text": [
            "\n",
            "\n",
            " 25%|██▌       | 1/4 [00:01<00:04,  1.36s/it]\u001b[A\u001b[A\n",
            "\n",
            " 50%|█████     | 2/4 [00:02<00:02,  1.36s/it]\u001b[A\u001b[A\n",
            "\n",
            " 75%|███████▌  | 3/4 [00:04<00:01,  1.36s/it]\u001b[A\u001b[A\n",
            "\n",
            "100%|██████████| 4/4 [00:05<00:00,  1.36s/it]\n",
            "\n",
            " 33%|███▎      | 2/6 [00:10<00:21,  5.35s/it]\u001b[A\n",
            "\n",
            "  0%|          | 0/4 [00:00<?, ?it/s]\u001b[A\u001b[A"
          ],
          "name": "stderr"
        },
        {
          "output_type": "stream",
          "text": [
            "accuracy:  0.7882285714285715 lr:  0.0001 C:  10000\n",
            "66.67% complete\n"
          ],
          "name": "stdout"
        },
        {
          "output_type": "stream",
          "text": [
            "\n",
            "\n",
            " 25%|██▌       | 1/4 [00:01<00:04,  1.35s/it]\u001b[A\u001b[A\n",
            "\n",
            " 50%|█████     | 2/4 [00:02<00:02,  1.36s/it]\u001b[A\u001b[A\n",
            "\n",
            " 75%|███████▌  | 3/4 [00:04<00:01,  1.37s/it]\u001b[A\u001b[A\n",
            "\n",
            "100%|██████████| 4/4 [00:05<00:00,  1.38s/it]\n",
            "\n",
            " 50%|█████     | 3/6 [00:16<00:16,  5.40s/it]\u001b[A\n",
            "\n",
            "  0%|          | 0/4 [00:00<?, ?it/s]\u001b[A\u001b[A"
          ],
          "name": "stderr"
        },
        {
          "output_type": "stream",
          "text": [
            "accuracy:  0.7876000000000001 lr:  0.0001 C:  1000\n",
            "70.0% complete\n"
          ],
          "name": "stdout"
        },
        {
          "output_type": "stream",
          "text": [
            "\n",
            "\n",
            " 25%|██▌       | 1/4 [00:01<00:04,  1.50s/it]\u001b[A\u001b[A\n",
            "\n",
            " 50%|█████     | 2/4 [00:02<00:02,  1.50s/it]\u001b[A\u001b[A\n",
            "\n",
            " 75%|███████▌  | 3/4 [00:04<00:01,  1.50s/it]\u001b[A\u001b[A\n",
            "\n",
            "100%|██████████| 4/4 [00:06<00:00,  1.50s/it]\n",
            "\n",
            " 67%|██████▋   | 4/6 [00:22<00:11,  5.59s/it]\u001b[A\n",
            "\n",
            "  0%|          | 0/4 [00:00<?, ?it/s]\u001b[A\u001b[A"
          ],
          "name": "stderr"
        },
        {
          "output_type": "stream",
          "text": [
            "accuracy:  0.7813142857142857 lr:  0.0001 C:  10\n",
            "73.33% complete\n"
          ],
          "name": "stdout"
        },
        {
          "output_type": "stream",
          "text": [
            "\n",
            "\n",
            " 25%|██▌       | 1/4 [00:01<00:04,  1.57s/it]\u001b[A\u001b[A\n",
            "\n",
            " 50%|█████     | 2/4 [00:03<00:03,  1.57s/it]\u001b[A\u001b[A\n",
            "\n",
            " 75%|███████▌  | 3/4 [00:04<00:01,  1.58s/it]\u001b[A\u001b[A\n",
            "\n",
            "100%|██████████| 4/4 [00:06<00:00,  1.63s/it]\n",
            "\n",
            " 83%|████████▎ | 5/6 [00:28<00:05,  5.87s/it]\u001b[A\n",
            "\n",
            "  0%|          | 0/4 [00:00<?, ?it/s]\u001b[A\u001b[A"
          ],
          "name": "stderr"
        },
        {
          "output_type": "stream",
          "text": [
            "accuracy:  0.7814857142857142 lr:  0.0001 C:  0.1\n",
            "76.67% complete\n"
          ],
          "name": "stdout"
        },
        {
          "output_type": "stream",
          "text": [
            "\n",
            "\n",
            " 25%|██▌       | 1/4 [00:01<00:04,  1.57s/it]\u001b[A\u001b[A\n",
            "\n",
            " 50%|█████     | 2/4 [00:03<00:03,  1.58s/it]\u001b[A\u001b[A\n",
            "\n",
            " 75%|███████▌  | 3/4 [00:04<00:01,  1.57s/it]\u001b[A\u001b[A\n",
            "\n",
            "100%|██████████| 4/4 [00:06<00:00,  1.58s/it]\n",
            "\n",
            "100%|██████████| 6/6 [00:35<00:00,  5.87s/it]\n",
            " 80%|████████  | 4/5 [02:15<00:33, 33.17s/it]\n",
            "  0%|          | 0/6 [00:00<?, ?it/s]\u001b[A\n",
            "\n",
            "  0%|          | 0/4 [00:00<?, ?it/s]\u001b[A\u001b[A"
          ],
          "name": "stderr"
        },
        {
          "output_type": "stream",
          "text": [
            "accuracy:  0.7806285714285714 lr:  0.0001 C:  0.01\n",
            "80.0% complete\n"
          ],
          "name": "stdout"
        },
        {
          "output_type": "stream",
          "text": [
            "\n",
            "\n",
            " 25%|██▌       | 1/4 [00:01<00:04,  1.34s/it]\u001b[A\u001b[A\n",
            "\n",
            " 50%|█████     | 2/4 [00:02<00:02,  1.35s/it]\u001b[A\u001b[A\n",
            "\n",
            " 75%|███████▌  | 3/4 [00:04<00:01,  1.38s/it]\u001b[A\u001b[A\n",
            "\n",
            "100%|██████████| 4/4 [00:05<00:00,  1.38s/it]\n",
            "\n",
            " 17%|█▋        | 1/6 [00:05<00:27,  5.53s/it]\u001b[A\n",
            "\n",
            "  0%|          | 0/4 [00:00<?, ?it/s]\u001b[A\u001b[A"
          ],
          "name": "stderr"
        },
        {
          "output_type": "stream",
          "text": [
            "accuracy:  0.7877714285714286 lr:  1e-05 C:  100000\n",
            "83.33% complete\n"
          ],
          "name": "stdout"
        },
        {
          "output_type": "stream",
          "text": [
            "\n",
            "\n",
            " 25%|██▌       | 1/4 [00:01<00:04,  1.37s/it]\u001b[A\u001b[A\n",
            "\n",
            " 50%|█████     | 2/4 [00:02<00:02,  1.37s/it]\u001b[A\u001b[A\n",
            "\n",
            " 75%|███████▌  | 3/4 [00:04<00:01,  1.38s/it]\u001b[A\u001b[A\n",
            "\n",
            "100%|██████████| 4/4 [00:05<00:00,  1.38s/it]\n",
            "\n",
            " 33%|███▎      | 2/6 [00:11<00:22,  5.53s/it]\u001b[A\n",
            "\n",
            "  0%|          | 0/4 [00:00<?, ?it/s]\u001b[A\u001b[A"
          ],
          "name": "stderr"
        },
        {
          "output_type": "stream",
          "text": [
            "accuracy:  0.7888 lr:  1e-05 C:  10000\n",
            "86.67% complete\n"
          ],
          "name": "stdout"
        },
        {
          "output_type": "stream",
          "text": [
            "\n",
            "\n",
            " 25%|██▌       | 1/4 [00:01<00:04,  1.43s/it]\u001b[A\u001b[A\n",
            "\n",
            " 50%|█████     | 2/4 [00:02<00:02,  1.41s/it]\u001b[A\u001b[A\n",
            "\n",
            " 75%|███████▌  | 3/4 [00:04<00:01,  1.40s/it]\u001b[A\u001b[A\n",
            "\n",
            "100%|██████████| 4/4 [00:05<00:00,  1.39s/it]\n",
            "\n",
            " 50%|█████     | 3/6 [00:16<00:16,  5.54s/it]\u001b[A\n",
            "\n",
            "  0%|          | 0/4 [00:00<?, ?it/s]\u001b[A\u001b[A"
          ],
          "name": "stderr"
        },
        {
          "output_type": "stream",
          "text": [
            "accuracy:  0.7855428571428572 lr:  1e-05 C:  1000\n",
            "90.0% complete\n"
          ],
          "name": "stdout"
        },
        {
          "output_type": "stream",
          "text": [
            "\n",
            "\n",
            " 25%|██▌       | 1/4 [00:01<00:04,  1.58s/it]\u001b[A\u001b[A\n",
            "\n",
            " 50%|█████     | 2/4 [00:03<00:03,  1.58s/it]\u001b[A\u001b[A\n",
            "\n",
            " 75%|███████▌  | 3/4 [00:04<00:01,  1.58s/it]\u001b[A\u001b[A\n",
            "\n",
            "100%|██████████| 4/4 [00:06<00:00,  1.59s/it]\n",
            "\n",
            " 67%|██████▋   | 4/6 [00:23<00:11,  5.79s/it]\u001b[A\n",
            "\n",
            "  0%|          | 0/4 [00:00<?, ?it/s]\u001b[A\u001b[A"
          ],
          "name": "stderr"
        },
        {
          "output_type": "stream",
          "text": [
            "accuracy:  0.7815428571428571 lr:  1e-05 C:  10\n",
            "93.33% complete\n"
          ],
          "name": "stdout"
        },
        {
          "output_type": "stream",
          "text": [
            "\n",
            "\n",
            " 25%|██▌       | 1/4 [00:01<00:04,  1.57s/it]\u001b[A\u001b[A\n",
            "\n",
            " 50%|█████     | 2/4 [00:03<00:03,  1.58s/it]\u001b[A\u001b[A\n",
            "\n",
            " 75%|███████▌  | 3/4 [00:04<00:01,  1.60s/it]\u001b[A\u001b[A\n",
            "\n",
            "100%|██████████| 4/4 [00:06<00:00,  1.60s/it]\n",
            "\n",
            " 83%|████████▎ | 5/6 [00:29<00:05,  5.98s/it]\u001b[A\n",
            "\n",
            "  0%|          | 0/4 [00:00<?, ?it/s]\u001b[A\u001b[A"
          ],
          "name": "stderr"
        },
        {
          "output_type": "stream",
          "text": [
            "accuracy:  0.6353714285714286 lr:  1e-05 C:  0.1\n",
            "96.67% complete\n"
          ],
          "name": "stdout"
        },
        {
          "output_type": "stream",
          "text": [
            "\n",
            "\n",
            " 25%|██▌       | 1/4 [00:01<00:04,  1.56s/it]\u001b[A\u001b[A\n",
            "\n",
            " 50%|█████     | 2/4 [00:03<00:03,  1.57s/it]\u001b[A\u001b[A\n",
            "\n",
            " 75%|███████▌  | 3/4 [00:04<00:01,  1.57s/it]\u001b[A\u001b[A\n",
            "\n",
            "100%|██████████| 4/4 [00:06<00:00,  1.58s/it]\n",
            "\n",
            "100%|██████████| 6/6 [00:35<00:00,  5.96s/it]\n",
            "100%|██████████| 5/5 [02:51<00:00, 34.23s/it]"
          ],
          "name": "stderr"
        },
        {
          "output_type": "stream",
          "text": [
            "accuracy:  0.48222857142857145 lr:  1e-05 C:  0.01\n",
            "100.0% complete\n",
            "dict_items([((10, 100000), 0.0), ((10, 10000), 0.0), ((10, 1000), 0.0), ((10, 10), 0.0), ((10, 0.1), 0.0), ((10, 0.01), 0.0), ((1, 100000), 0.6416571428571429), ((1, 10000), 0.7134285714285714), ((1, 1000), 0.6484571428571428), ((1, 10), 0.6509714285714285), ((1, 0.1), 0.6352571428571429), ((1, 0.01), 0.6634857142857143), ((0.01, 100000), 0.7639428571428571), ((0.01, 10000), 0.761257142857143), ((0.01, 1000), 0.7685142857142857), ((0.01, 10), 0.7816571428571428), ((0.01, 0.1), 0.7818285714285714), ((0.01, 0.01), 0.7814857142857142), ((0.0001, 100000), 0.7769142857142857), ((0.0001, 10000), 0.7882285714285715), ((0.0001, 1000), 0.7876000000000001), ((0.0001, 10), 0.7813142857142857), ((0.0001, 0.1), 0.7814857142857142), ((0.0001, 0.01), 0.7806285714285714), ((1e-05, 100000), 0.7877714285714286), ((1e-05, 10000), 0.7888), ((1e-05, 1000), 0.7855428571428572), ((1e-05, 10), 0.7815428571428571), ((1e-05, 0.1), 0.6353714285714286), ((1e-05, 0.01), 0.48222857142857145)])\n",
            "dict_items([((10, 100000), 0.0), ((10, 10000), 0.0), ((10, 1000), 0.0), ((10, 10), 0.0), ((10, 0.1), 0.0), ((10, 0.01), 0.0), ((1, 100000), 0.055273036567829115), ((1, 10000), 0.02690664131657417), ((1, 1000), 0.030594864181520937), ((1, 10), 0.05523512635699741), ((1, 0.1), 0.1005288708657917), ((1, 0.01), 0.08869033493117548), ((0.01, 100000), 0.013897232142570314), ((0.01, 10000), 0.012834138149514224), ((0.01, 1000), 0.01326539152248805), ((0.01, 10), 0.0032420703891438336), ((0.01, 0.1), 0.0029471535904520077), ((0.01, 0.01), 0.0034964705236064713), ((0.0001, 100000), 0.009235247474668322), ((0.0001, 10000), 0.005623275245779434), ((0.0001, 1000), 0.0047380354147934), ((0.0001, 10), 0.0030682042876934374), ((0.0001, 0.1), 0.00325262845045892), ((0.0001, 0.01), 0.004128151239121596), ((1e-05, 100000), 0.00656421964835401), ((1e-05, 10000), 0.0061011875725893085), ((1e-05, 1000), 0.003679840280473572), ((1e-05, 10), 0.003422375353643216), ((1e-05, 0.1), 0.07732986855949368), ((1e-05, 0.01), 0.016701655789844595)])\n",
            "best lr:  1e-05 best C:  10000 cross-val accuracy:  0.7888\n"
          ],
          "name": "stdout"
        },
        {
          "output_type": "stream",
          "text": [
            "\n"
          ],
          "name": "stderr"
        }
      ]
    },
    {
      "cell_type": "markdown",
      "metadata": {
        "id": "jwqcOBuTOWCP"
      },
      "source": [
        "w/ this cross validation I get:  \n",
        "\n",
        "best lr:  1e-05 best C:  10000 cross-val accuracy:  0.7888.   \n",
        "\n",
        "So, train on these params"
      ]
    },
    {
      "cell_type": "code",
      "metadata": {
        "colab": {
          "base_uri": "https://localhost:8080/",
          "height": 953
        },
        "id": "pw0jmTAXOVxi",
        "outputId": "ac7d3edf-93ab-4d7b-8480-4559c6594671"
      },
      "source": [
        "learning_rate = 0.00001\n",
        "C = 100000\n",
        "\n",
        "epochs = 15\n",
        "svm = SVM()\n",
        "%time svm.train(misc_train_data,epochs,learning_rate,C)\n",
        "\n",
        "# test set accuracy\n",
        "# Get the best weights and bias from this training\n",
        "W_misc,best_epoch_misc = svm.get_best_weights_and_bias()\n",
        "# training set accuracy:\n",
        "print(\"best training set accuracy: \", svm.accuracies[best_epoch_misc] )\n",
        "# Use these weights and bias to evaluate on the test set\n",
        "test_accuracy = svm.get_accuracy_own_weights(misc_test_data,W_misc)\n",
        "print(\"final test accuracy: \",test_accuracy)\n",
        "\n",
        "y = list(svm.accuracies.values())\n",
        "x = [i for i in range(epochs)]\n",
        "title = 'SVM training learning curve'\n",
        "plot_learning(x,y,title,'epochs','training accuracy')\n",
        "\n",
        "y = list(svm.loss.values())\n",
        "x = [i for i in range(epochs)]\n",
        "title = 'SVM training loss'\n",
        "plot_learning(x,y,title,'epochs','loss')\n"
      ],
      "execution_count": null,
      "outputs": [
        {
          "output_type": "stream",
          "text": [
            "CPU times: user 2.73 s, sys: 1.36 s, total: 4.09 s\n",
            "Wall time: 2.44 s\n",
            "best training set accuracy:  0.7909714285714285\n",
            "final test accuracy:  0.8\n"
          ],
          "name": "stdout"
        },
        {
          "output_type": "display_data",
          "data": {
            "image/png": "[encoded data removed]",
            "text/plain": [
              "<Figure size 1100x450 with 1 Axes>"
            ]
          },
          "metadata": {
            "tags": []
          }
        },
        {
          "output_type": "display_data",
          "data": {
            "image/png": "[encoded data removed]",
            "text/plain": [
              "<Figure size 1100x450 with 1 Axes>"
            ]
          },
          "metadata": {
            "tags": []
          }
        }
      ]
    },
    {
      "cell_type": "markdown",
      "metadata": {
        "id": "MshbJc_6OmaD"
      },
      "source": [
        "Eh, not great, I'll try glove next."
      ]
    },
    {
      "cell_type": "code",
      "metadata": {
        "id": "mSeseI2hOvmU"
      },
      "source": [
        "# Glove + Misc\n",
        "train_data_glove = Data(TRAINING_PATH_GLOVE)\n",
        "test_data_glove = Data(TESTING_PATH_GLOVE)"
      ],
      "execution_count": null,
      "outputs": []
    },
    {
      "cell_type": "code",
      "metadata": {
        "colab": {
          "base_uri": "https://localhost:8080/",
          "height": 953
        },
        "id": "y3QYLRv1O5K6",
        "outputId": "b2fda04b-779c-4112-82b1-247f8a99bff6"
      },
      "source": [
        "learning_rate = 0.001\n",
        "C = 1000\n",
        "\n",
        "epochs = 15\n",
        "svm = SVM()\n",
        "%time svm.train(train_data_glove,epochs,learning_rate,C)\n",
        "\n",
        "# test set accuracy\n",
        "# Get the best weights and bias from this training\n",
        "W_glove,best_epoch_misc = svm.get_best_weights_and_bias()\n",
        "# training set accuracy:\n",
        "print(\"best training set accuracy: \", svm.accuracies[best_epoch_misc] )\n",
        "# Use these weights and bias to evaluate on the test set\n",
        "test_accuracy = svm.get_accuracy_own_weights(test_data_glove,W_glove)\n",
        "print(\"final test accuracy: \",test_accuracy)\n",
        "\n",
        "y = list(svm.accuracies.values())\n",
        "x = [i for i in range(epochs)]\n",
        "title = 'SVM training learning curve'\n",
        "plot_learning(x,y,title,'epochs','training accuracy')\n",
        "\n",
        "y = list(svm.loss.values())\n",
        "x = [i for i in range(epochs)]\n",
        "title = 'SVM training loss'\n",
        "plot_learning(x,y,title,'epochs','loss')"
      ],
      "execution_count": null,
      "outputs": [
        {
          "output_type": "stream",
          "text": [
            "CPU times: user 4.66 s, sys: 1.39 s, total: 6.05 s\n",
            "Wall time: 4.28 s\n",
            "best training set accuracy:  0.7778857142857143\n",
            "final test accuracy:  0.7688888888888888\n"
          ],
          "name": "stdout"
        },
        {
          "output_type": "display_data",
          "data": {
            "image/png": "[encoded data removed]",
            "text/plain": [
              "<Figure size 1100x450 with 1 Axes>"
            ]
          },
          "metadata": {
            "tags": []
          }
        },
        {
          "output_type": "display_data",
          "data": {
            "image/png": "[encoded data removed]",
            "text/plain": [
              "<Figure size 1100x450 with 1 Axes>"
            ]
          },
          "metadata": {
            "tags": []
          }
        }
      ]
    },
    {
      "cell_type": "markdown",
      "metadata": {
        "id": "dUrtmlZYPiqy"
      },
      "source": [
        "eh, not that great either. Will just stick with the tf-idf + misc features. "
      ]
    },
    {
      "cell_type": "markdown",
      "metadata": {
        "id": "gr4S94vCLrs0"
      },
      "source": [
        "# Run model on eval set"
      ]
    },
    {
      "cell_type": "code",
      "metadata": {
        "id": "Yv5xlusjL6U2"
      },
      "source": [
        "# load eval data\n",
        "eval_data = Data(EVAL_PATH_TF)"
      ],
      "execution_count": null,
      "outputs": []
    },
    {
      "cell_type": "code",
      "metadata": {
        "colab": {
          "base_uri": "https://localhost:8080/"
        },
        "id": "ZjFXsdkjLvJ4",
        "outputId": "b37b70f2-6b72-4ffa-c6ad-9345e3796fd8"
      },
      "source": [
        "# eval ids\n",
        "def load_ids(file_path):\n",
        "  with open(file_path) as f:\n",
        "    raw_data = [int(line.split()[0]) for line in f]\n",
        "  # print(raw_data)\n",
        "  return raw_data\n",
        "\n",
        "eval_ids = np.reshape(np.array(load_ids(EVAL_IDS),dtype=np.int32),(eval_data.X.shape[0],1))\n",
        "# print(eval_ids)\n",
        "\n",
        "# run predictions\n",
        "predictions = np.sign(eval_data.X.dot(W))\n",
        "print(predictions.shape)\n",
        "print(predictions)\n",
        "predictions[predictions == -1] = 0\n",
        "predictions = np.reshape(predictions,(eval_data.X.shape[0],1))\n",
        "print(predictions.shape)\n",
        "print(predictions)\n",
        "eval_out = np.hstack((eval_ids,predictions))\n",
        "print(eval_out.shape)\n",
        "print(eval_out)\n",
        "eval_df = pd.DataFrame(data = eval_out,index = None,columns=['example_id','label'])\n",
        "save_to_path = '/content/drive/My Drive/Colab Notebooks/Machine Learning 2020/old-bailey-decisions/SVM_evals.csv'\n",
        "eval_df.to_csv(path_or_buf=save_to_path,index=False)"
      ],
      "execution_count": null,
      "outputs": [
        {
          "output_type": "stream",
          "text": [
            "(5250,)\n",
            "[ 1. -1.  1. ...  1. -1. -1.]\n",
            "(5250, 1)\n",
            "[[1.]\n",
            " [0.]\n",
            " [1.]\n",
            " ...\n",
            " [1.]\n",
            " [0.]\n",
            " [0.]]\n",
            "(5250, 2)\n",
            "[[0.000e+00 1.000e+00]\n",
            " [1.000e+00 0.000e+00]\n",
            " [2.000e+00 1.000e+00]\n",
            " ...\n",
            " [5.247e+03 1.000e+00]\n",
            " [5.248e+03 0.000e+00]\n",
            " [5.249e+03 0.000e+00]]\n"
          ],
          "name": "stdout"
        }
      ]
    },
    {
      "cell_type": "markdown",
      "metadata": {
        "id": "UzZW-fI2YpMW"
      },
      "source": [
        "## Save weights for later use"
      ]
    },
    {
      "cell_type": "code",
      "metadata": {
        "id": "2L2s46WmSFw6"
      },
      "source": [
        "outfile = '/content/drive/My Drive/Colab Notebooks/Machine Learning 2020/old-bailey-decisions/svm_weights.npy'\n",
        "np.save(outfile, W)"
      ],
      "execution_count": null,
      "outputs": []
    }
  ]
}